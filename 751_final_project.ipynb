{
 "cells": [
  {
   "cell_type": "code",
   "execution_count": 1,
   "metadata": {},
   "outputs": [],
   "source": [
    "import timeit\n",
    "import numpy as np\n",
    "import pandas as pd\n",
    "import seaborn as sns\n",
    "import matplotlib.pyplot as plt\n",
    "\n",
    "from sklearn.pipeline import Pipeline\n",
    "from sklearn.model_selection import train_test_split, StratifiedKFold, KFold\n",
    "from sklearn.preprocessing import StandardScaler, RobustScaler\n",
    "\n",
    "from sklearn import tree\n",
    "from sklearn.svm import SVC\n",
    "from sklearn.cluster import KMeans\n",
    "from sklearn.naive_bayes import GaussianNB\n",
    "from sklearn.linear_model import LogisticRegression\n",
    "from sklearn.neighbors import KNeighborsClassifier\n",
    "from sklearn.ensemble import RandomForestClassifier, GradientBoostingClassifier, AdaBoostClassifier\n",
    "from sklearn.discriminant_analysis import LinearDiscriminantAnalysis\n",
    "\n",
    "from sklearn.metrics import roc_curve, roc_auc_score, classification_report, accuracy_score, recall_score, precision_score, confusion_matrix \n",
    "\n",
    "import tensorflow as tf\n",
    "from tensorflow.keras.models import Sequential\n",
    "from tensorflow.keras.layers import Dense, Activation,Dropout"
   ]
  },
  {
   "cell_type": "markdown",
   "metadata": {},
   "source": [
    "Read in credit card data.\n",
    "The datasets contains transactions made by credit cards in September 2013 by european cardholders.\n",
    "Due to confidentiality issues, it contains only numerical input variables which are the result of a PCA transformation. These are features V1~V28. In addition, time and amount are provided. Feature 'Class' is our response variable of interest, it takes value in 1 if the transactionw as fraudulent, and 0 otherwise. This is an extremely unbalanced dataset, out of 284, 807 total entries, there are only 492 fraudulent cases, giving us a baseline accuracy of 99.82%, which means if we just guess every transaction is not fraudulent, we expect to be correct 99.82% of the time. The major problem that arises here is that false-negatives (predicting a transaction is legitimate when in fact it is fraudulent) are extremely costly.\n",
    "\n",
    "To deal with these issues, we use a naive undersampling method to create a subset that has equal fraud and non-fraud cases. We will evaluate our classification model not directly with accuracy, but with area under curve, precision, and recall metrics."
   ]
  },
  {
   "cell_type": "code",
   "execution_count": 2,
   "metadata": {},
   "outputs": [],
   "source": [
    "credit_card = pd.read_csv('creditcard.csv')"
   ]
  },
  {
   "cell_type": "code",
   "execution_count": 3,
   "metadata": {},
   "outputs": [
    {
     "data": {
      "image/png": "[encoded data removed]",
      "text/plain": [
       "<Figure size 576x288 with 1 Axes>"
      ]
     },
     "metadata": {
      "needs_background": "light"
     },
     "output_type": "display_data"
    }
   ],
   "source": [
    "f, ax = plt.subplots(figsize=(8, 4))\n",
    "sns.countplot(x='Class', data=credit_card)\n",
    "_ = plt.title('# Fraud vs NonFraud')\n",
    "_ = plt.xlabel('Class (1==Fraud)')"
   ]
  },
  {
   "cell_type": "code",
   "execution_count": 4,
   "metadata": {},
   "outputs": [
    {
     "data": {
      "text/plain": [
       "0.9982725143693799"
      ]
     },
     "execution_count": 4,
     "metadata": {},
     "output_type": "execute_result"
    }
   ],
   "source": [
    "base_line_accuracy = 1-np.sum(credit_card.Class)/credit_card.shape[0]\n",
    "base_line_accuracy"
   ]
  },
  {
   "cell_type": "markdown",
   "metadata": {},
   "source": [
    "Some basic feature engineering: scaling the time and amount columns"
   ]
  },
  {
   "cell_type": "code",
   "execution_count": 5,
   "metadata": {},
   "outputs": [],
   "source": [
    "std_scaler = StandardScaler()\n",
    "rob_scaler = RobustScaler()\n",
    "credit_card['scaled_amount'] = rob_scaler.fit_transform(credit_card['Amount'].values.reshape(-1,1))\n",
    "credit_card['scaled_time'] = rob_scaler.fit_transform(credit_card['Time'].values.reshape(-1,1))\n",
    "credit_card.drop(['Time','Amount'], axis=1, inplace=True)"
   ]
  },
  {
   "cell_type": "markdown",
   "metadata": {},
   "source": [
    "Since this dataset is highly imbalanced, we apply an undersampling technique so that out dataset has a higher proportion of fraudulent cases."
   ]
  },
  {
   "cell_type": "code",
   "execution_count": 6,
   "metadata": {},
   "outputs": [
    {
     "data": {
      "text/html": [
       "<div>\n",
       "<style scoped>\n",
       "    .dataframe tbody tr th:only-of-type {\n",
       "        vertical-align: middle;\n",
       "    }\n",
       "\n",
       "    .dataframe tbody tr th {\n",
       "        vertical-align: top;\n",
       "    }\n",
       "\n",
       "    .dataframe thead th {\n",
       "        text-align: right;\n",
       "    }\n",
       "</style>\n",
       "<table border=\"1\" class=\"dataframe\">\n",
       "  <thead>\n",
       "    <tr style=\"text-align: right;\">\n",
       "      <th></th>\n",
       "      <th>V1</th>\n",
       "      <th>V2</th>\n",
       "      <th>V3</th>\n",
       "      <th>V4</th>\n",
       "      <th>V5</th>\n",
       "      <th>V6</th>\n",
       "      <th>V7</th>\n",
       "      <th>V8</th>\n",
       "      <th>V9</th>\n",
       "      <th>V10</th>\n",
       "      <th>...</th>\n",
       "      <th>V22</th>\n",
       "      <th>V23</th>\n",
       "      <th>V24</th>\n",
       "      <th>V25</th>\n",
       "      <th>V26</th>\n",
       "      <th>V27</th>\n",
       "      <th>V28</th>\n",
       "      <th>Class</th>\n",
       "      <th>scaled_amount</th>\n",
       "      <th>scaled_time</th>\n",
       "    </tr>\n",
       "  </thead>\n",
       "  <tbody>\n",
       "    <tr>\n",
       "      <th>240222</th>\n",
       "      <td>1.852889</td>\n",
       "      <td>1.069593</td>\n",
       "      <td>-1.776101</td>\n",
       "      <td>4.617410</td>\n",
       "      <td>0.770413</td>\n",
       "      <td>-0.400859</td>\n",
       "      <td>-0.040970</td>\n",
       "      <td>0.089510</td>\n",
       "      <td>-0.217705</td>\n",
       "      <td>-0.373927</td>\n",
       "      <td>...</td>\n",
       "      <td>-0.176244</td>\n",
       "      <td>0.027437</td>\n",
       "      <td>-0.468006</td>\n",
       "      <td>0.058063</td>\n",
       "      <td>0.148263</td>\n",
       "      <td>0.042278</td>\n",
       "      <td>0.040573</td>\n",
       "      <td>1</td>\n",
       "      <td>-0.293440</td>\n",
       "      <td>0.773059</td>\n",
       "    </tr>\n",
       "    <tr>\n",
       "      <th>180501</th>\n",
       "      <td>0.145267</td>\n",
       "      <td>0.453747</td>\n",
       "      <td>1.791921</td>\n",
       "      <td>1.028151</td>\n",
       "      <td>-0.410618</td>\n",
       "      <td>0.840608</td>\n",
       "      <td>-0.588681</td>\n",
       "      <td>0.275899</td>\n",
       "      <td>0.331268</td>\n",
       "      <td>-0.090112</td>\n",
       "      <td>...</td>\n",
       "      <td>0.982964</td>\n",
       "      <td>-0.109857</td>\n",
       "      <td>0.714032</td>\n",
       "      <td>-1.108509</td>\n",
       "      <td>0.840459</td>\n",
       "      <td>0.081307</td>\n",
       "      <td>-0.002894</td>\n",
       "      <td>0</td>\n",
       "      <td>-0.277370</td>\n",
       "      <td>0.468438</td>\n",
       "    </tr>\n",
       "    <tr>\n",
       "      <th>160342</th>\n",
       "      <td>2.094938</td>\n",
       "      <td>0.001441</td>\n",
       "      <td>-1.596736</td>\n",
       "      <td>0.209687</td>\n",
       "      <td>0.363921</td>\n",
       "      <td>-0.948205</td>\n",
       "      <td>0.323954</td>\n",
       "      <td>-0.417071</td>\n",
       "      <td>0.507157</td>\n",
       "      <td>-0.016655</td>\n",
       "      <td>...</td>\n",
       "      <td>0.813998</td>\n",
       "      <td>-0.109202</td>\n",
       "      <td>-0.592171</td>\n",
       "      <td>0.385304</td>\n",
       "      <td>-0.072347</td>\n",
       "      <td>-0.017434</td>\n",
       "      <td>-0.061170</td>\n",
       "      <td>0</td>\n",
       "      <td>-0.080067</td>\n",
       "      <td>0.335718</td>\n",
       "    </tr>\n",
       "    <tr>\n",
       "      <th>236299</th>\n",
       "      <td>-0.307369</td>\n",
       "      <td>0.687747</td>\n",
       "      <td>0.387342</td>\n",
       "      <td>-0.582081</td>\n",
       "      <td>0.451922</td>\n",
       "      <td>-0.867432</td>\n",
       "      <td>0.568838</td>\n",
       "      <td>0.049035</td>\n",
       "      <td>-0.098913</td>\n",
       "      <td>-0.836060</td>\n",
       "      <td>...</td>\n",
       "      <td>0.197540</td>\n",
       "      <td>-0.045587</td>\n",
       "      <td>0.010578</td>\n",
       "      <td>-0.321087</td>\n",
       "      <td>0.494873</td>\n",
       "      <td>0.254575</td>\n",
       "      <td>0.125427</td>\n",
       "      <td>0</td>\n",
       "      <td>0.013834</td>\n",
       "      <td>0.752617</td>\n",
       "    </tr>\n",
       "    <tr>\n",
       "      <th>105918</th>\n",
       "      <td>0.855069</td>\n",
       "      <td>-0.439828</td>\n",
       "      <td>1.247989</td>\n",
       "      <td>1.720902</td>\n",
       "      <td>-0.787988</td>\n",
       "      <td>0.845241</td>\n",
       "      <td>-0.477368</td>\n",
       "      <td>0.361960</td>\n",
       "      <td>0.881259</td>\n",
       "      <td>-0.305195</td>\n",
       "      <td>...</td>\n",
       "      <td>-0.567391</td>\n",
       "      <td>0.013393</td>\n",
       "      <td>0.239000</td>\n",
       "      <td>0.355589</td>\n",
       "      <td>-0.550374</td>\n",
       "      <td>0.075187</td>\n",
       "      <td>0.036855</td>\n",
       "      <td>0</td>\n",
       "      <td>1.053727</td>\n",
       "      <td>-0.175578</td>\n",
       "    </tr>\n",
       "    <tr>\n",
       "      <th>93580</th>\n",
       "      <td>1.281973</td>\n",
       "      <td>-0.710610</td>\n",
       "      <td>1.285237</td>\n",
       "      <td>-0.482514</td>\n",
       "      <td>-1.488391</td>\n",
       "      <td>-0.221473</td>\n",
       "      <td>-1.104451</td>\n",
       "      <td>0.064987</td>\n",
       "      <td>-0.311289</td>\n",
       "      <td>0.421542</td>\n",
       "      <td>...</td>\n",
       "      <td>0.758938</td>\n",
       "      <td>0.045721</td>\n",
       "      <td>0.454258</td>\n",
       "      <td>0.247721</td>\n",
       "      <td>-0.195929</td>\n",
       "      <td>0.071352</td>\n",
       "      <td>0.030778</td>\n",
       "      <td>0</td>\n",
       "      <td>-0.103403</td>\n",
       "      <td>-0.237280</td>\n",
       "    </tr>\n",
       "    <tr>\n",
       "      <th>95785</th>\n",
       "      <td>-0.257853</td>\n",
       "      <td>2.366063</td>\n",
       "      <td>-2.508196</td>\n",
       "      <td>1.514803</td>\n",
       "      <td>0.662218</td>\n",
       "      <td>-1.528422</td>\n",
       "      <td>0.458841</td>\n",
       "      <td>0.340204</td>\n",
       "      <td>0.119213</td>\n",
       "      <td>-0.519516</td>\n",
       "      <td>...</td>\n",
       "      <td>-0.161684</td>\n",
       "      <td>0.230142</td>\n",
       "      <td>-0.298409</td>\n",
       "      <td>-0.363757</td>\n",
       "      <td>-0.352880</td>\n",
       "      <td>0.462064</td>\n",
       "      <td>0.132834</td>\n",
       "      <td>0</td>\n",
       "      <td>-0.289387</td>\n",
       "      <td>-0.225896</td>\n",
       "    </tr>\n",
       "    <tr>\n",
       "      <th>17134</th>\n",
       "      <td>-0.375519</td>\n",
       "      <td>1.354001</td>\n",
       "      <td>-1.823592</td>\n",
       "      <td>-0.849204</td>\n",
       "      <td>2.712523</td>\n",
       "      <td>2.781156</td>\n",
       "      <td>0.034795</td>\n",
       "      <td>1.226209</td>\n",
       "      <td>-0.766675</td>\n",
       "      <td>-1.006564</td>\n",
       "      <td>...</td>\n",
       "      <td>-0.457576</td>\n",
       "      <td>-0.096953</td>\n",
       "      <td>0.877879</td>\n",
       "      <td>0.015175</td>\n",
       "      <td>0.295318</td>\n",
       "      <td>0.144733</td>\n",
       "      <td>0.057231</td>\n",
       "      <td>0</td>\n",
       "      <td>-0.296793</td>\n",
       "      <td>-0.660499</td>\n",
       "    </tr>\n",
       "    <tr>\n",
       "      <th>238099</th>\n",
       "      <td>1.971029</td>\n",
       "      <td>0.101474</td>\n",
       "      <td>-1.803507</td>\n",
       "      <td>0.535114</td>\n",
       "      <td>0.240016</td>\n",
       "      <td>-1.407008</td>\n",
       "      <td>0.385872</td>\n",
       "      <td>-0.439940</td>\n",
       "      <td>0.488870</td>\n",
       "      <td>-0.515656</td>\n",
       "      <td>...</td>\n",
       "      <td>0.745347</td>\n",
       "      <td>-0.091432</td>\n",
       "      <td>-0.152259</td>\n",
       "      <td>0.278290</td>\n",
       "      <td>-0.102030</td>\n",
       "      <td>-0.007457</td>\n",
       "      <td>-0.022344</td>\n",
       "      <td>0</td>\n",
       "      <td>0.443653</td>\n",
       "      <td>0.761628</td>\n",
       "    </tr>\n",
       "    <tr>\n",
       "      <th>59811</th>\n",
       "      <td>-1.294454</td>\n",
       "      <td>0.347232</td>\n",
       "      <td>2.055542</td>\n",
       "      <td>1.484312</td>\n",
       "      <td>-0.655011</td>\n",
       "      <td>0.063810</td>\n",
       "      <td>-0.599267</td>\n",
       "      <td>0.708412</td>\n",
       "      <td>0.178913</td>\n",
       "      <td>-0.494479</td>\n",
       "      <td>...</td>\n",
       "      <td>0.539801</td>\n",
       "      <td>0.499947</td>\n",
       "      <td>0.380243</td>\n",
       "      <td>-0.406465</td>\n",
       "      <td>-0.315323</td>\n",
       "      <td>0.047878</td>\n",
       "      <td>0.040574</td>\n",
       "      <td>0</td>\n",
       "      <td>-0.164326</td>\n",
       "      <td>-0.419154</td>\n",
       "    </tr>\n",
       "  </tbody>\n",
       "</table>\n",
       "<p>10 rows × 31 columns</p>\n",
       "</div>"
      ],
      "text/plain": [
       "              V1        V2        V3        V4        V5        V6        V7  \\\n",
       "240222  1.852889  1.069593 -1.776101  4.617410  0.770413 -0.400859 -0.040970   \n",
       "180501  0.145267  0.453747  1.791921  1.028151 -0.410618  0.840608 -0.588681   \n",
       "160342  2.094938  0.001441 -1.596736  0.209687  0.363921 -0.948205  0.323954   \n",
       "236299 -0.307369  0.687747  0.387342 -0.582081  0.451922 -0.867432  0.568838   \n",
       "105918  0.855069 -0.439828  1.247989  1.720902 -0.787988  0.845241 -0.477368   \n",
       "93580   1.281973 -0.710610  1.285237 -0.482514 -1.488391 -0.221473 -1.104451   \n",
       "95785  -0.257853  2.366063 -2.508196  1.514803  0.662218 -1.528422  0.458841   \n",
       "17134  -0.375519  1.354001 -1.823592 -0.849204  2.712523  2.781156  0.034795   \n",
       "238099  1.971029  0.101474 -1.803507  0.535114  0.240016 -1.407008  0.385872   \n",
       "59811  -1.294454  0.347232  2.055542  1.484312 -0.655011  0.063810 -0.599267   \n",
       "\n",
       "              V8        V9       V10  ...       V22       V23       V24  \\\n",
       "240222  0.089510 -0.217705 -0.373927  ... -0.176244  0.027437 -0.468006   \n",
       "180501  0.275899  0.331268 -0.090112  ...  0.982964 -0.109857  0.714032   \n",
       "160342 -0.417071  0.507157 -0.016655  ...  0.813998 -0.109202 -0.592171   \n",
       "236299  0.049035 -0.098913 -0.836060  ...  0.197540 -0.045587  0.010578   \n",
       "105918  0.361960  0.881259 -0.305195  ... -0.567391  0.013393  0.239000   \n",
       "93580   0.064987 -0.311289  0.421542  ...  0.758938  0.045721  0.454258   \n",
       "95785   0.340204  0.119213 -0.519516  ... -0.161684  0.230142 -0.298409   \n",
       "17134   1.226209 -0.766675 -1.006564  ... -0.457576 -0.096953  0.877879   \n",
       "238099 -0.439940  0.488870 -0.515656  ...  0.745347 -0.091432 -0.152259   \n",
       "59811   0.708412  0.178913 -0.494479  ...  0.539801  0.499947  0.380243   \n",
       "\n",
       "             V25       V26       V27       V28  Class  scaled_amount  \\\n",
       "240222  0.058063  0.148263  0.042278  0.040573      1      -0.293440   \n",
       "180501 -1.108509  0.840459  0.081307 -0.002894      0      -0.277370   \n",
       "160342  0.385304 -0.072347 -0.017434 -0.061170      0      -0.080067   \n",
       "236299 -0.321087  0.494873  0.254575  0.125427      0       0.013834   \n",
       "105918  0.355589 -0.550374  0.075187  0.036855      0       1.053727   \n",
       "93580   0.247721 -0.195929  0.071352  0.030778      0      -0.103403   \n",
       "95785  -0.363757 -0.352880  0.462064  0.132834      0      -0.289387   \n",
       "17134   0.015175  0.295318  0.144733  0.057231      0      -0.296793   \n",
       "238099  0.278290 -0.102030 -0.007457 -0.022344      0       0.443653   \n",
       "59811  -0.406465 -0.315323  0.047878  0.040574      0      -0.164326   \n",
       "\n",
       "        scaled_time  \n",
       "240222     0.773059  \n",
       "180501     0.468438  \n",
       "160342     0.335718  \n",
       "236299     0.752617  \n",
       "105918    -0.175578  \n",
       "93580     -0.237280  \n",
       "95785     -0.225896  \n",
       "17134     -0.660499  \n",
       "238099     0.761628  \n",
       "59811     -0.419154  \n",
       "\n",
       "[10 rows x 31 columns]"
      ]
     },
     "execution_count": 6,
     "metadata": {},
     "output_type": "execute_result"
    }
   ],
   "source": [
    "# shuffle the data before sampling\n",
    "df = credit_card.sample(frac=1)\n",
    "\n",
    "# amount of fraud classes 492 rows.\n",
    "fraud= df.loc[df['Class'] == 1]\n",
    "multiplier = 9\n",
    "non_fraud= df.loc[df['Class'] == 0][:len(fraud)*multiplier]\n",
    "\n",
    "balanced_df = pd.concat([fraud, non_fraud])\n",
    "\n",
    "# Shuffle dataframe rows\n",
    "balanced_credit_card = balanced_df.sample(frac=1, random_state=42)\n",
    "\n",
    "balanced_credit_card.head(10)"
   ]
  },
  {
   "cell_type": "code",
   "execution_count": 7,
   "metadata": {},
   "outputs": [
    {
     "data": {
      "image/png": "[encoded data removed]",
      "text/plain": [
       "<Figure size 576x288 with 1 Axes>"
      ]
     },
     "metadata": {
      "needs_background": "light"
     },
     "output_type": "display_data"
    }
   ],
   "source": [
    "f, ax = plt.subplots(figsize=(8, 4))\n",
    "sns.countplot(x='Class', data=balanced_credit_card)\n",
    "_ = plt.title('# Fraud vs NonFraud')\n",
    "_ = plt.xlabel('Class (1==Fraud)')"
   ]
  },
  {
   "cell_type": "markdown",
   "metadata": {},
   "source": [
    "Split the data into train, test splits, future work could include undersampling methods to get better a more equal distribution in fraud/non-fraud cases"
   ]
  },
  {
   "cell_type": "code",
   "execution_count": 8,
   "metadata": {},
   "outputs": [],
   "source": [
    "# Balanced dataset\n",
    "train, test = train_test_split(balanced_credit_card, test_size=0.2, random_state=751)\n",
    "x_train = train.drop('Class', axis=1)\n",
    "y_train = train['Class']\n",
    "\n",
    "x_test = test.drop('Class', axis=1)\n",
    "y_test = test['Class']"
   ]
  },
  {
   "cell_type": "code",
   "execution_count": 9,
   "metadata": {},
   "outputs": [],
   "source": [
    "# Run this cell to use the entire unbalanced dataset.\n",
    "#train, test = train_test_split(balanced_credit_card, test_size=0.3, random_state=751)\n",
    "#x_train = train.drop('Class', axis=1)\n",
    "#y_train = train['Class']\n",
    "\n",
    "#x_test = test.drop('Class', axis=1)\n",
    "#y_test = test['Class']"
   ]
  },
  {
   "cell_type": "markdown",
   "metadata": {},
   "source": [
    "## Baseline Logistic Regrssion model\n",
    "Below is a simple logisitc regression model that fits the training data, the goal of this project is to see if we can improve on this model through stacking"
   ]
  },
  {
   "cell_type": "code",
   "execution_count": 10,
   "metadata": {},
   "outputs": [
    {
     "data": {
      "text/plain": [
       "LogisticRegression(C=1.0, class_weight=None, dual=False, fit_intercept=True,\n",
       "                   intercept_scaling=1, l1_ratio=None, max_iter=100,\n",
       "                   multi_class='auto', n_jobs=None, penalty='l2',\n",
       "                   random_state=None, solver='lbfgs', tol=0.0001, verbose=0,\n",
       "                   warm_start=False)"
      ]
     },
     "execution_count": 10,
     "metadata": {},
     "output_type": "execute_result"
    }
   ],
   "source": [
    "baseline_model = LogisticRegression()\n",
    "baseline_model.fit(x_train, y_train)"
   ]
  },
  {
   "cell_type": "code",
   "execution_count": 11,
   "metadata": {},
   "outputs": [],
   "source": [
    "y_hat = baseline_model.predict(x_train)\n",
    "y_hat_prob = baseline_model.predict_proba(x_train)[:,1]\n",
    "\n",
    "y_test_hat = baseline_model.predict(x_test)\n",
    "y_test_hat_prob = baseline_model.predict_proba(x_test)[:,1]\n",
    "\n",
    "train_accuracy = accuracy_score(y_train, y_hat)*100\n",
    "test_accuracy = accuracy_score(y_test, y_test_hat)*100\n",
    "\n",
    "train_auc_roc = roc_auc_score(y_train, y_hat_prob)*100\n",
    "test_auc_roc = roc_auc_score(y_test, y_test_hat_prob)*100\n",
    "\n",
    "test_precision = precision_score(y_test, y_test_hat)*100\n",
    "test_recall = recall_score(y_test, y_test_hat)*100"
   ]
  },
  {
   "cell_type": "code",
   "execution_count": 12,
   "metadata": {},
   "outputs": [
    {
     "name": "stdout",
     "output_type": "stream",
     "text": [
      "\n",
      "Training accuracy: 98.4756 %\n",
      "Training AUC: 98.3753 %\n",
      "                              \n",
      "##############################\n",
      "                              \n",
      "Testing accuracy: 98.6789 %\n",
      "Testing AUC: 98.3029 %\n",
      "Testing precision score: 100.0000 %\n",
      "Testing recall score: 88.6957 %\n"
     ]
    }
   ],
   "source": [
    "print()\n",
    "print('Training accuracy: %.4f %%' % train_accuracy)\n",
    "print('Training AUC: %.4f %%' % train_auc_roc)\n",
    "print(\"                              \")\n",
    "print(\"##############################\")\n",
    "print(\"                              \")\n",
    "print('Testing accuracy: %.4f %%' % test_accuracy)\n",
    "print('Testing AUC: %.4f %%' % test_auc_roc)\n",
    "print('Testing precision score: %.4f %%' % test_precision)\n",
    "print('Testing recall score: %.4f %%' % test_recall)"
   ]
  },
  {
   "cell_type": "markdown",
   "metadata": {},
   "source": [
    "We see that the baseline logistic regression model only has a testing recall score of 88% This means, the model is making a false negative prediction 12% of the time, let's try to bump this number up through stacking."
   ]
  },
  {
   "cell_type": "code",
   "execution_count": 13,
   "metadata": {},
   "outputs": [
    {
     "data": {
      "image/png": "[encoded data removed]",
      "text/plain": [
       "<Figure size 648x432 with 1 Axes>"
      ]
     },
     "metadata": {
      "needs_background": "light"
     },
     "output_type": "display_data"
    }
   ],
   "source": [
    "fpr, tpr, thresholds = roc_curve(y_test, y_test_hat_prob, drop_intermediate=True)\n",
    "\n",
    "f, ax = plt.subplots(figsize=(9, 6))\n",
    "_ = plt.plot(fpr, tpr, [0,1], [0, 1])\n",
    "_ = plt.title('AUC ROC')\n",
    "_ = plt.xlabel('False positive rate')\n",
    "_ = plt.ylabel('True positive rate')\n",
    "plt.style.use('seaborn')"
   ]
  },
  {
   "cell_type": "code",
   "execution_count": 14,
   "metadata": {},
   "outputs": [],
   "source": [
    "def Stacking(model,train,y,test,n_fold):\n",
    "    \"\"\" use cross-validation to generate the stacking features\n",
    "    \"\"\"  \n",
    "    folds=KFold(n_splits=n_fold)\n",
    "    \n",
    "    test_pred=np.empty((test.shape[0],1),float)\n",
    "    train_pred=np.empty((0,1),float)\n",
    "    for train_indices,val_indices in folds.split(train,y.values):\n",
    "        \n",
    "        X_train,X_val=train.iloc[train_indices],train.iloc[val_indices]\n",
    "        Y_train,Y_val=y.iloc[train_indices],y.iloc[val_indices]\n",
    "\n",
    "        model.fit(X=X_train,y=Y_train)\n",
    "        \n",
    "        train_pred=np.append(train_pred,model.predict(X_val))\n",
    "    # Finally, fit model on entire training set to make test predictions\n",
    "    test_model = model.fit(train, y)\n",
    "    test_pred = test_model.predict(test)\n",
    "    return test_pred.reshape(-1,1),train_pred\n",
    "\n",
    "def non_kfold_stack(model, train, y, test):\n",
    "    \"\"\" Naively generate the stacking features, this will greatly reduce the run time, tradeoff for higher variance\n",
    "        Doesn't really make a difference if using balanced subsample\n",
    "    \"\"\"\n",
    "    model.fit(X=train, y=y)\n",
    "    test_pred = model.predict(test).reshape(-1, 1)\n",
    "    train_pred = model.predict(train)\n",
    "    return pd.DataFrame(test_pred), pd.DataFrame(train_pred)"
   ]
  },
  {
   "cell_type": "code",
   "execution_count": 15,
   "metadata": {},
   "outputs": [],
   "source": [
    "def summary_level1(train_pred, test_pred, y_train, y_test):\n",
    "    \"\"\" Generate some statistics to evaluate our model\n",
    "        Since our original dataset is highly imbalanced, measuring accuracy alone isn't enough\n",
    "        Inputs:\n",
    "                train_pred: model predictions of training set\n",
    "                test_pred: model prediction of test set\n",
    "                y_train: training y set fed into the model\n",
    "                y_test: testing y to evaluate on\n",
    "        Returns: test_pred and train_pred converted to pandas DataFrames\n",
    "    \"\"\"\n",
    "    train_pred = pd.DataFrame(train_pred)\n",
    "    test_pred = pd.DataFrame(test_pred)\n",
    "    train_acc = accuracy_score(train_pred, y_train)\n",
    "    test_acc = accuracy_score(test_pred, y_test)\n",
    "    train_auc = roc_auc_score(train_pred, y_train)\n",
    "    test_auc = roc_auc_score(test_pred, y_test)\n",
    "    train_precision = precision_score(train_pred, y_train)\n",
    "    test_precision = precision_score(test_pred, y_test)\n",
    "    train_recall = recall_score(train_pred, y_train)\n",
    "    test_recall = recall_score(test_pred, y_test)\n",
    "        \n",
    "    print(\"This model has Training accuracy: {:.4f} ; and testing accuracy {:.4f}\".format(train_acc, test_acc))\n",
    "    print(\"               Training auc: {:.4f} ; and testing auc {:.4f}\".format(train_auc, test_auc))\n",
    "    print(\"               Training precision: {:.4f} ; and testing precision {:.4f}\".format(train_precision, test_precision))\n",
    "    print(\"               Training recall: {:.4f} ; and testing recall {:.4f}\".format(train_recall, test_recall))\n",
    "    return test_pred, train_pred"
   ]
  },
  {
   "cell_type": "markdown",
   "metadata": {},
   "source": [
    "# Stacking using Kfold cross validation"
   ]
  },
  {
   "cell_type": "markdown",
   "metadata": {},
   "source": [
    "### level 1 model: Decision Trees"
   ]
  },
  {
   "cell_type": "code",
   "execution_count": 16,
   "metadata": {},
   "outputs": [
    {
     "name": "stdout",
     "output_type": "stream",
     "text": [
      "It took 1.1121503329995903 seconds to train the Decision Tree  meta-features\n",
      "This model has Training accuracy: 0.9776 ; and testing accuracy 0.9837\n",
      "               Training auc: 0.9438 ; and testing auc 0.9745\n",
      "               Training precision: 0.8594 ; and testing precision 0.8957\n",
      "               Training recall: 0.9025 ; and testing recall 0.9626\n"
     ]
    }
   ],
   "source": [
    "# Keep track of training times for meta-features\n",
    "training_times = []\n",
    "\n",
    "t0 =timeit.default_timer()\n",
    "model1 = tree.DecisionTreeClassifier(max_depth=10)\n",
    "test_pred1 ,train_pred1=Stacking(model=model1,n_fold=10, train=x_train,test=x_test,y=y_train)\n",
    "t1 =timeit.default_timer()\n",
    "training_times += [t1-t0]\n",
    "print(\"It took {} seconds to train the Decision Tree  meta-features\".format(t1-t0))\n",
    "test_pred1 ,train_pred1=summary_level1(train_pred1, test_pred1,y_train, y_test)"
   ]
  },
  {
   "cell_type": "markdown",
   "metadata": {},
   "source": [
    "### level 1 model: KNN"
   ]
  },
  {
   "cell_type": "code",
   "execution_count": 17,
   "metadata": {},
   "outputs": [
    {
     "name": "stdout",
     "output_type": "stream",
     "text": [
      "It took 0.9868660690008255 seconds to train the KNN meta-features\n",
      "This model has Training accuracy: 0.9837 ; and testing accuracy 0.9837\n",
      "               Training auc: 0.9841 ; and testing auc 0.9823\n",
      "               Training precision: 0.8435 ; and testing precision 0.8783\n",
      "               Training recall: 0.9845 ; and testing recall 0.9806\n"
     ]
    }
   ],
   "source": [
    "t0 =timeit.default_timer()\n",
    "model2 = KNeighborsClassifier()\n",
    "test_pred2 ,train_pred2=Stacking(model=model2,n_fold=10,train=x_train,test=x_test,y=y_train)\n",
    "t1 =timeit.default_timer()\n",
    "training_times += [t1-t0]\n",
    "print(\"It took {} seconds to train the KNN meta-features\".format(t1-t0))\n",
    "test_pred2 ,train_pred2=summary_level1(train_pred2, test_pred2,y_train, y_test)"
   ]
  },
  {
   "cell_type": "markdown",
   "metadata": {},
   "source": [
    "### level 1 model: SVC"
   ]
  },
  {
   "cell_type": "code",
   "execution_count": 18,
   "metadata": {},
   "outputs": [
    {
     "name": "stdout",
     "output_type": "stream",
     "text": [
      "It took 0.9237685580010293 seconds to train the Support Vector Classifier meta-features\n",
      "This model has Training accuracy: 0.9827 ; and testing accuracy 0.9848\n",
      "               Training auc: 0.9863 ; and testing auc 0.9915\n",
      "               Training precision: 0.8276 ; and testing precision 0.8696\n",
      "               Training recall: 0.9905 ; and testing recall 1.0000\n"
     ]
    }
   ],
   "source": [
    "t0 =timeit.default_timer()\n",
    "model3 = SVC()\n",
    "test_pred3 ,train_pred3=Stacking(model=model3,n_fold=10,train=x_train,test=x_test,y=y_train)\n",
    "t1 =timeit.default_timer()\n",
    "training_times += [t1-t0]\n",
    "print(\"It took {} seconds to train the Support Vector Classifier meta-features\".format(t1-t0))\n",
    "test_pred3 ,train_pred3=summary_level1(train_pred3, test_pred3,y_train, y_test)"
   ]
  },
  {
   "cell_type": "markdown",
   "metadata": {},
   "source": [
    "### level 1 model: RandomForest"
   ]
  },
  {
   "cell_type": "code",
   "execution_count": 19,
   "metadata": {},
   "outputs": [
    {
     "name": "stdout",
     "output_type": "stream",
     "text": [
      "It took 15.328213108001364 seconds to train the Random Forest meta-features\n",
      "This model has Training accuracy: 0.9850 ; and testing accuracy 0.9858\n",
      "               Training auc: 0.9904 ; and testing auc 0.9921\n",
      "               Training precision: 0.8462 ; and testing precision 0.8783\n",
      "               Training recall: 0.9969 ; and testing recall 1.0000\n"
     ]
    }
   ],
   "source": [
    "t0 =timeit.default_timer()\n",
    "model4 = RandomForestClassifier()\n",
    "test_pred4 ,train_pred4=Stacking(model=model4,n_fold=10,train=x_train,test=x_test,y=y_train)\n",
    "t1 =timeit.default_timer()\n",
    "training_times += [t1-t0]\n",
    "print(\"It took {} seconds to train the Random Forest meta-features\".format(t1-t0))\n",
    "test_pred4 ,train_pred4=summary_level1(train_pred4, test_pred4,y_train, y_test)"
   ]
  },
  {
   "cell_type": "markdown",
   "metadata": {},
   "source": [
    "### level 1 model: KMeans"
   ]
  },
  {
   "cell_type": "code",
   "execution_count": 20,
   "metadata": {},
   "outputs": [
    {
     "name": "stdout",
     "output_type": "stream",
     "text": [
      "It took 0.8332003699979396 seconds to train the KMeans meta-features\n",
      "This model has Training accuracy: 0.7630 ; and testing accuracy 0.0610\n",
      "               Training auc: 0.5482 ; and testing auc 0.0323\n",
      "               Training precision: 0.3846 ; and testing precision 0.5217\n",
      "               Training recall: 0.1714 ; and testing recall 0.0646\n"
     ]
    }
   ],
   "source": [
    "t0 =timeit.default_timer()\n",
    "model5 = KMeans(n_clusters=2, init=\"k-means++\")\n",
    "test_pred5 ,train_pred5=Stacking(model=model5,n_fold=10,train=x_train,test=x_test,y=y_train)\n",
    "t1 =timeit.default_timer()\n",
    "training_times += [t1-t0]\n",
    "print(\"It took {} seconds to train the KMeans meta-features\".format(t1-t0))\n",
    "test_pred5 ,train_pred5=summary_level1(train_pred5, test_pred5,y_train, y_test)"
   ]
  },
  {
   "cell_type": "markdown",
   "metadata": {},
   "source": [
    "Kmeans does poorly here, seems like a problem with testing recall, however, incorporating Kmeans in the final aggregated model actually decreases performance."
   ]
  },
  {
   "cell_type": "markdown",
   "metadata": {},
   "source": [
    "### level 1 model: Naive Bayes"
   ]
  },
  {
   "cell_type": "code",
   "execution_count": 21,
   "metadata": {},
   "outputs": [
    {
     "name": "stdout",
     "output_type": "stream",
     "text": [
      "It took 0.05208784700153046 seconds to train the stacking features\n",
      "This model has Training accuracy: 0.9593 ; and testing accuracy 0.9685\n",
      "               Training auc: 0.8736 ; and testing auc 0.9199\n",
      "               Training precision: 0.8302 ; and testing precision 0.8783\n",
      "               Training recall: 0.7653 ; and testing recall 0.8559\n"
     ]
    }
   ],
   "source": [
    "t0 =timeit.default_timer()\n",
    "model6 = GaussianNB()\n",
    "test_pred6 ,train_pred6=Stacking(model=model6,n_fold=10,train=x_train,test=x_test,y=y_train)\n",
    "t1 =timeit.default_timer()\n",
    "training_times += [t1-t0]\n",
    "print(\"It took {} seconds to train the stacking features\".format(t1-t0))\n",
    "test_pred6 ,train_pred6=summary_level1(train_pred6, test_pred6,y_train, y_test)"
   ]
  },
  {
   "cell_type": "markdown",
   "metadata": {},
   "source": [
    "### level 1 model: LDA"
   ]
  },
  {
   "cell_type": "code",
   "execution_count": 22,
   "metadata": {},
   "outputs": [
    {
     "name": "stdout",
     "output_type": "stream",
     "text": [
      "It took 0.2148840879999625 seconds to train the stacking features\n",
      "This model has Training accuracy: 0.9756 ; and testing accuracy 0.9797\n",
      "               Training auc: 0.9805 ; and testing auc 0.9888\n",
      "               Training precision: 0.7560 ; and testing precision 0.8261\n",
      "               Training recall: 0.9862 ; and testing recall 1.0000\n"
     ]
    }
   ],
   "source": [
    "t0 =timeit.default_timer()\n",
    "model7 = LinearDiscriminantAnalysis()\n",
    "test_pred7 ,train_pred7=Stacking(model=model7,n_fold=10,train=x_train,test=x_test,y=y_train)\n",
    "t1 =timeit.default_timer()\n",
    "training_times += [t1-t0]\n",
    "print(\"It took {} seconds to train the stacking features\".format(t1-t0))\n",
    "test_pred7 ,train_pred7=summary_level1(train_pred7, test_pred7,y_train, y_test)"
   ]
  },
  {
   "cell_type": "markdown",
   "metadata": {},
   "source": [
    "### Level 1 model: logistic regression"
   ]
  },
  {
   "cell_type": "code",
   "execution_count": 55,
   "metadata": {},
   "outputs": [
    {
     "name": "stdout",
     "output_type": "stream",
     "text": [
      "It took 0.18346538599871565 seconds to train the stacking features\n",
      "This model has Training accuracy: 0.9809 ; and testing accuracy 0.9878\n",
      "               Training auc: 0.9716 ; and testing auc 0.9932\n",
      "               Training precision: 0.8355 ; and testing precision 0.8957\n",
      "               Training recall: 0.9604 ; and testing recall 1.0000\n"
     ]
    }
   ],
   "source": [
    "t0 =timeit.default_timer()\n",
    "model8 = LogisticRegression()\n",
    "test_pred8 ,train_pred8=Stacking(model=model8,n_fold=4,train=x_train,test=x_test,y=y_train)\n",
    "t1 =timeit.default_timer()\n",
    "training_times += [t1-t0]\n",
    "print(\"It took {} seconds to train the stacking features\".format(t1-t0))\n",
    "test_pred8 ,train_pred8=summary_level1(train_pred8, test_pred8,y_train, y_test)"
   ]
  },
  {
   "cell_type": "markdown",
   "metadata": {},
   "source": [
    "### level 1 model: Gradient Boosting Classifier"
   ]
  },
  {
   "cell_type": "code",
   "execution_count": 24,
   "metadata": {},
   "outputs": [
    {
     "name": "stdout",
     "output_type": "stream",
     "text": [
      "It took 30.334762125999987 seconds to train the stacking features\n",
      "This model has Training accuracy: 0.9787 ; and testing accuracy 0.9817\n",
      "               Training auc: 0.9565 ; and testing auc 0.9656\n",
      "               Training precision: 0.8408 ; and testing precision 0.8957\n",
      "               Training recall: 0.9296 ; and testing recall 0.9450\n"
     ]
    }
   ],
   "source": [
    "t0 =timeit.default_timer()\n",
    "model9 = GradientBoostingClassifier()\n",
    "test_pred9 ,train_pred9=Stacking(model=model9,n_fold=10,train=x_train,test=x_test,y=y_train)\n",
    "t1 =timeit.default_timer()\n",
    "training_times += [t1-t0]\n",
    "print(\"It took {} seconds to train the stacking features\".format(t1-t0))\n",
    "test_pred9 ,train_pred9=summary_level1(train_pred9, test_pred9,y_train, y_test)"
   ]
  },
  {
   "cell_type": "markdown",
   "metadata": {},
   "source": [
    "### level 1 model: AdaBoost Classifier"
   ]
  },
  {
   "cell_type": "code",
   "execution_count": 25,
   "metadata": {},
   "outputs": [
    {
     "name": "stdout",
     "output_type": "stream",
     "text": [
      "It took 6.6591231810016325 seconds to train the stacking features\n",
      "This model has Training accuracy: 0.9809 ; and testing accuracy 0.9817\n",
      "               Training auc: 0.9631 ; and testing auc 0.9730\n",
      "               Training precision: 0.8541 ; and testing precision 0.8783\n",
      "               Training recall: 0.9415 ; and testing recall 0.9619\n"
     ]
    }
   ],
   "source": [
    "t0 =timeit.default_timer()\n",
    "model10 = AdaBoostClassifier()\n",
    "test_pred10 ,train_pred10=Stacking(model=model10,n_fold=10,train=x_train,test=x_test,y=y_train)\n",
    "t1 =timeit.default_timer()\n",
    "training_times += [t1-t0]\n",
    "print(\"It took {} seconds to train the stacking features\".format(t1-t0))\n",
    "test_pred10 ,train_pred10=summary_level1(train_pred10, test_pred10,y_train, y_test)"
   ]
  },
  {
   "cell_type": "code",
   "execution_count": 26,
   "metadata": {},
   "outputs": [
    {
     "name": "stdout",
     "output_type": "stream",
     "text": [
      "In total, it took 56.97078863400384 seconds to generate all the meta-features through 10 fold cross validation\n"
     ]
    }
   ],
   "source": [
    "print(\"In total, it took {} seconds to generate all the meta-features through 10 fold cross validation\".format(sum(training_times)))"
   ]
  },
  {
   "cell_type": "markdown",
   "metadata": {},
   "source": [
    "# Combine the stack features to be fed into one final aggregation model\n",
    "### Try Aggregating with another logistic regression"
   ]
  },
  {
   "cell_type": "code",
   "execution_count": 27,
   "metadata": {},
   "outputs": [],
   "source": [
    "df = pd.concat([train_pred1, train_pred2, train_pred3, train_pred4, train_pred6, train_pred7, train_pred8, train_pred9, train_pred10], axis=1)\n",
    "df_test = pd.concat([test_pred1, test_pred2, test_pred3, test_pred4, test_pred6, test_pred7, test_pred8, test_pred9, test_pred10], axis=1)\n",
    "\n",
    "model = LogisticRegression(random_state=751)\n",
    "\n",
    "model.fit(df,y_train)\n",
    "y_hat = model.predict(df)\n",
    "y_test_hat = model.predict(df_test)\n",
    "train_acc = accuracy_score(y_hat, y_train) * 100\n",
    "test_acc = accuracy_score(y_test_hat, y_test) * 100"
   ]
  },
  {
   "cell_type": "markdown",
   "metadata": {},
   "source": [
    "The below heatmap can give us a sense if our meta models are making the same prediction, if a line across a row is sold in color, then all models predict the same class for that instance."
   ]
  },
  {
   "cell_type": "code",
   "execution_count": 28,
   "metadata": {},
   "outputs": [
    {
     "data": {
      "text/plain": [
       "<matplotlib.axes._subplots.AxesSubplot at 0x1a3d3852e8>"
      ]
     },
     "execution_count": 28,
     "metadata": {},
     "output_type": "execute_result"
    },
    {
     "data": {
      "image/png": "[encoded data removed]",
      "text/plain": [
       "<Figure size 576x432 with 2 Axes>"
      ]
     },
     "metadata": {},
     "output_type": "display_data"
    }
   ],
   "source": [
    "fig, ax = plt.subplots(figsize=(8,6)) \n",
    "sns.heatmap(df.values, cmap=\"YlGnBu\")"
   ]
  },
  {
   "cell_type": "code",
   "execution_count": 29,
   "metadata": {},
   "outputs": [],
   "source": [
    "y_hat = model.predict(df)\n",
    "y_hat_prob = model.predict_proba(df)[:,1]\n",
    "\n",
    "y_test_hat = model.predict(df_test)\n",
    "y_test_hat_prob = model.predict_proba(df_test)[:,1]\n",
    "\n",
    "train_accuracy = accuracy_score(y_train, y_hat)*100\n",
    "test_accuracy = accuracy_score(y_test, y_test_hat)*100\n",
    "\n",
    "train_auc_roc = roc_auc_score(y_train, y_hat_prob)*100\n",
    "test_auc_roc = roc_auc_score(y_test, y_test_hat_prob)*100\n",
    "test_precision = precision_score(y_test_hat, y_test)*100\n",
    "test_recall = recall_score(y_test_hat, y_test)*100\n",
    "\n",
    "train_precision = precision_score(y_hat, y_train)*100\n",
    "train_recall = recall_score(y_train, y_hat)*100"
   ]
  },
  {
   "cell_type": "code",
   "execution_count": 31,
   "metadata": {},
   "outputs": [
    {
     "name": "stdout",
     "output_type": "stream",
     "text": [
      "Training accuracy: 98.5518 %\n",
      "Training AUC: 94.4524 %\n",
      "Training precision: 85.4111 %\n",
      "Training recall: 93.2496 %\n",
      "                              \n",
      "##############################\n",
      "                              \n",
      "Testing accuracy: 98.5772 %\n",
      "Testing AUC: 95.5436 %\n",
      "Testing precision: 86.0126 %\n",
      "Testing recall: 92.4145 %\n"
     ]
    }
   ],
   "source": [
    "print('Training accuracy: %.4f %%' % train_accuracy)\n",
    "print('Training AUC: %.4f %%' % train_auc_roc)\n",
    "print('Training precision: %.4f %%' % train_precision)\n",
    "print('Training recall: %.4f %%' % train_recall)\n",
    "print(\"                              \")\n",
    "print(\"##############################\")\n",
    "print(\"                              \")\n",
    "print('Testing accuracy: %.4f %%' % test_accuracy)\n",
    "print('Testing AUC: %.4f %%' % test_auc_roc)\n",
    "print('Testing precision: %.4f %%' % test_precision)\n",
    "print('Testing recall: %.4f %%' % test_recall)"
   ]
  },
  {
   "cell_type": "markdown",
   "metadata": {},
   "source": [
    "Our model accuracy is pretty similar to our previous basleine model, but we see a big increase in our testing recall."
   ]
  },
  {
   "cell_type": "code",
   "execution_count": 32,
   "metadata": {},
   "outputs": [
    {
     "data": {
      "image/png": "[encoded data removed]",
      "text/plain": [
       "<Figure size 648x432 with 1 Axes>"
      ]
     },
     "metadata": {},
     "output_type": "display_data"
    }
   ],
   "source": [
    "fpr, tpr, thresholds = roc_curve(y_test, y_test_hat_prob, drop_intermediate=True)\n",
    "\n",
    "f, ax = plt.subplots(figsize=(9, 6))\n",
    "_ = plt.plot(fpr, tpr, [0,1], [0, 1])\n",
    "_ = plt.title('AUC ROC')\n",
    "_ = plt.xlabel('False positive rate')\n",
    "_ = plt.ylabel('True positive rate')\n",
    "plt.style.use('seaborn')"
   ]
  },
  {
   "cell_type": "markdown",
   "metadata": {},
   "source": [
    "# Stacking without kfold"
   ]
  },
  {
   "cell_type": "markdown",
   "metadata": {},
   "source": [
    "(Originally implemented this since training on the entire original dataset takes forever, but under sampling took care of that)In the model above, the stacking meta-features were constructed using cross validation to make predictions for each fold in the training data. We will test if using the entire training set to generate meta-features instead decreases model performance."
   ]
  },
  {
   "cell_type": "code",
   "execution_count": 33,
   "metadata": {},
   "outputs": [
    {
     "name": "stdout",
     "output_type": "stream",
     "text": [
      "Without using Kfolds to generate the stacking features, it takes 7.123903894997056 seconds to generate all \n",
      " meta-features\n",
      "Confusion matrix:\n",
      " [[3559    0]\n",
      " [   0  377]]\n",
      "Training accuracy: 100.0000 %\n",
      "Training AUC: 100.0000 %\n",
      "                              \n",
      "##############################\n",
      "                              \n",
      "Confusion matrix:\n",
      " [[869   0]\n",
      " [ 13 102]]\n",
      "Testing accuracy: 98.6789 %\n",
      "Testing AUC: 96.3506 %\n",
      "Testing precision: 88.6957 %\n",
      "Testing recall: 100.0000 %\n"
     ]
    }
   ],
   "source": [
    "t0=timeit.default_timer()\n",
    "test_pred11 ,train_pred11=non_kfold_stack(model=model1, train=x_train,test=x_test,y=y_train)\n",
    "test_pred22 ,train_pred22=non_kfold_stack(model=model2,train=x_train,test=x_test,y=y_train)\n",
    "test_pred33 ,train_pred33=non_kfold_stack(model=model3,train=x_train,test=x_test,y=y_train)\n",
    "test_pred44 ,train_pred44=non_kfold_stack(model=model4,train=x_train,test=x_test,y=y_train)\n",
    "test_pred55 ,train_pred55=non_kfold_stack(model=model5,train=x_train,test=x_test,y=y_train)\n",
    "test_pred66 ,train_pred66=non_kfold_stack(model=model6,train=x_train,test=x_test,y=y_train)\n",
    "test_pred77 ,train_pred77=non_kfold_stack(model=model7,train=x_train,test=x_test,y=y_train)\n",
    "test_pred88 ,train_pred88=non_kfold_stack(model=model8,train=x_train,test=x_test,y=y_train)\n",
    "test_pred99 ,train_pred99=non_kfold_stack(model=model9,train=x_train,test=x_test,y=y_train)\n",
    "test_pred1010 ,train_pred1010=non_kfold_stack(model=model10,train=x_train,test=x_test,y=y_train)\n",
    "\n",
    "\n",
    "t1 = timeit.default_timer()\n",
    "print(\"Without using Kfolds to generate the stacking features, it takes {} seconds to generate all \\n meta-features\".format(t1-t0))\n",
    "\n",
    "kdf = pd.concat([train_pred11, train_pred22, train_pred33, train_pred44, train_pred55, train_pred66, train_pred77, train_pred88, train_pred99, train_pred1010], axis=1)\n",
    "kdf_test = pd.concat([test_pred11, test_pred22, test_pred33, test_pred44, test_pred55, test_pred66, test_pred77, test_pred88, test_pred99, test_pred1010], axis=1)\n",
    "\n",
    "# Stacking model\n",
    "kmodel = LogisticRegression(random_state=751)\n",
    "\n",
    "kmodel.fit(kdf,y_train)\n",
    "ky_hat = kmodel.predict(kdf)\n",
    "ky_hat_prob = kmodel.predict_proba(kdf)[:,1]\n",
    "ky_test_hat = kmodel.predict(kdf_test)\n",
    "ky_test_hat_prob = kmodel.predict_proba(kdf_test)[:,1]\n",
    "ktrain_acc = accuracy_score(ky_hat, y_train) * 100\n",
    "ktest_acc = accuracy_score(ky_test_hat, y_test) * 100\n",
    "ktrain_auc_roc = roc_auc_score(y_train, ky_hat_prob)*100\n",
    "ktest_auc_roc = roc_auc_score(y_test, ky_test_hat_prob)*100\n",
    "ktest_recall = recall_score(ky_test_hat, y_test)*100\n",
    "ktest_precision = precision_score(ky_test_hat, y_test)*100\n",
    "\n",
    "print('Confusion matrix:\\n', confusion_matrix(y_train, ky_hat))\n",
    "print('Training accuracy: %.4f %%' % ktrain_acc)\n",
    "print('Training AUC: %.4f %%' % ktrain_auc_roc)\n",
    "print(\"                              \")\n",
    "print(\"##############################\")\n",
    "print(\"                              \")\n",
    "print('Confusion matrix:\\n', confusion_matrix(y_test, ky_test_hat))\n",
    "print('Testing accuracy: %.4f %%' % ktest_acc)\n",
    "print('Testing AUC: %.4f %%' % ktest_auc_roc)\n",
    "print('Testing precision: %.4f %%' % ktest_precision)\n",
    "print('Testing recall: %.4f %%' % ktest_recall)"
   ]
  },
  {
   "cell_type": "markdown",
   "metadata": {},
   "source": [
    "We see that performance is similar, but the baseline models are trained much faster now since don't need to use KFold to fit the stack, this difference is especially noticeable when we don't use the undersampled credit card data. However, without implementing Kfold to construct meta-feautures, we only make one incorrect prediction in the training, this is most likely due to overfitting, so we should do our Kfold."
   ]
  },
  {
   "cell_type": "markdown",
   "metadata": {},
   "source": [
    "## Aggregating Stacking Using Neutal Network\n",
    "Finally, we combine the stacking meta-features, (with the original dataset), to be aggregated by a neural newtork\n",
    "Try this for a nn for just the meta-features"
   ]
  },
  {
   "cell_type": "code",
   "execution_count": 34,
   "metadata": {},
   "outputs": [],
   "source": [
    "df = pd.concat([train_pred1, train_pred2, train_pred3, train_pred4, train_pred6, train_pred7, train_pred8, train_pred9, train_pred10], axis=1)\n",
    "df_test = pd.concat([test_pred1, test_pred2, test_pred3, test_pred4, test_pred6, test_pred7, test_pred8, test_pred9, test_pred10], axis=1)"
   ]
  },
  {
   "cell_type": "code",
   "execution_count": 35,
   "metadata": {},
   "outputs": [],
   "source": [
    "modeln = Sequential()\n",
    "modeln.add(Dense(30, input_shape=(9,), activation='relu')) # Hidden 1\n",
    "modeln.add(Dropout(0.3))\n",
    "modeln.add(Dense(15, activation='relu')) # Hidden 2\n",
    "modeln.add(Dropout(0.3))\n",
    "modeln.add(Dense(7, activation='relu')) # Hidden 2\n",
    "modeln.add(Dropout(0.3))\n",
    "modeln.add(Dense(1, activation='sigmoid')) # Output\n",
    "\n",
    "modeln.compile(loss='binary_crossentropy', optimizer='Adam', metrics = ['acc'])"
   ]
  },
  {
   "cell_type": "markdown",
   "metadata": {},
   "source": [
    "Using tanh instead of relu performs in precision"
   ]
  },
  {
   "cell_type": "code",
   "execution_count": 36,
   "metadata": {
    "scrolled": true
   },
   "outputs": [
    {
     "name": "stdout",
     "output_type": "stream",
     "text": [
      "Train on 3148 samples, validate on 788 samples\n",
      "Epoch 1/100\n",
      "3148/3148 [==============================] - 1s 220us/sample - loss: 0.6726 - acc: 0.9072 - val_loss: 0.6150 - val_acc: 0.8972\n",
      "Epoch 2/100\n",
      "3148/3148 [==============================] - 0s 22us/sample - loss: 0.5549 - acc: 0.9085 - val_loss: 0.4690 - val_acc: 0.8972\n",
      "Epoch 3/100\n",
      "3148/3148 [==============================] - 0s 22us/sample - loss: 0.4096 - acc: 0.9072 - val_loss: 0.3082 - val_acc: 0.8972\n",
      "Epoch 4/100\n",
      "3148/3148 [==============================] - 0s 26us/sample - loss: 0.2847 - acc: 0.9215 - val_loss: 0.1946 - val_acc: 0.8972\n",
      "Epoch 5/100\n",
      "3148/3148 [==============================] - 0s 26us/sample - loss: 0.2162 - acc: 0.9409 - val_loss: 0.1412 - val_acc: 0.9860\n",
      "Epoch 6/100\n",
      "3148/3148 [==============================] - 0s 25us/sample - loss: 0.1796 - acc: 0.9628 - val_loss: 0.1132 - val_acc: 0.9860\n",
      "Epoch 7/100\n",
      "3148/3148 [==============================] - 0s 24us/sample - loss: 0.1532 - acc: 0.9708 - val_loss: 0.0925 - val_acc: 0.9860\n",
      "Epoch 8/100\n",
      "3148/3148 [==============================] - 0s 23us/sample - loss: 0.1262 - acc: 0.9752 - val_loss: 0.0745 - val_acc: 0.9860\n",
      "Epoch 9/100\n",
      "3148/3148 [==============================] - 0s 22us/sample - loss: 0.1235 - acc: 0.9755 - val_loss: 0.0687 - val_acc: 0.9860\n",
      "Epoch 10/100\n",
      "3148/3148 [==============================] - 0s 21us/sample - loss: 0.1167 - acc: 0.9797 - val_loss: 0.0669 - val_acc: 0.9860\n",
      "Epoch 11/100\n",
      "3148/3148 [==============================] - 0s 21us/sample - loss: 0.1298 - acc: 0.9759 - val_loss: 0.0659 - val_acc: 0.9860\n",
      "Epoch 12/100\n",
      "3148/3148 [==============================] - 0s 26us/sample - loss: 0.1126 - acc: 0.9778 - val_loss: 0.0654 - val_acc: 0.9860\n",
      "Epoch 13/100\n",
      "3148/3148 [==============================] - 0s 26us/sample - loss: 0.1174 - acc: 0.9781 - val_loss: 0.0656 - val_acc: 0.9860\n",
      "Epoch 14/100\n",
      "3148/3148 [==============================] - 0s 25us/sample - loss: 0.1129 - acc: 0.9787 - val_loss: 0.0654 - val_acc: 0.9860\n",
      "Epoch 15/100\n",
      "3148/3148 [==============================] - 0s 25us/sample - loss: 0.1224 - acc: 0.9765 - val_loss: 0.0645 - val_acc: 0.9860\n",
      "Epoch 16/100\n",
      "3148/3148 [==============================] - 0s 24us/sample - loss: 0.1153 - acc: 0.9803 - val_loss: 0.0643 - val_acc: 0.9860\n",
      "Epoch 17/100\n",
      "3148/3148 [==============================] - 0s 21us/sample - loss: 0.1071 - acc: 0.9797 - val_loss: 0.0646 - val_acc: 0.9860\n",
      "Epoch 18/100\n",
      "3148/3148 [==============================] - 0s 21us/sample - loss: 0.1099 - acc: 0.9822 - val_loss: 0.0648 - val_acc: 0.9860\n",
      "Epoch 19/100\n",
      "3148/3148 [==============================] - 0s 19us/sample - loss: 0.1144 - acc: 0.9787 - val_loss: 0.0649 - val_acc: 0.9860\n",
      "Epoch 20/100\n",
      "3148/3148 [==============================] - 0s 18us/sample - loss: 0.1098 - acc: 0.9819 - val_loss: 0.0645 - val_acc: 0.9860\n",
      "Epoch 21/100\n",
      "3148/3148 [==============================] - 0s 16us/sample - loss: 0.1017 - acc: 0.9803 - val_loss: 0.0650 - val_acc: 0.9835\n",
      "Epoch 22/100\n",
      "3148/3148 [==============================] - 0s 17us/sample - loss: 0.1038 - acc: 0.9832 - val_loss: 0.0645 - val_acc: 0.9860\n",
      "Epoch 23/100\n",
      "3148/3148 [==============================] - 0s 17us/sample - loss: 0.1087 - acc: 0.9790 - val_loss: 0.0638 - val_acc: 0.9860\n",
      "Epoch 24/100\n",
      "3148/3148 [==============================] - 0s 17us/sample - loss: 0.1038 - acc: 0.9800 - val_loss: 0.0641 - val_acc: 0.9860\n",
      "Epoch 25/100\n",
      "3148/3148 [==============================] - 0s 17us/sample - loss: 0.0993 - acc: 0.9797 - val_loss: 0.0649 - val_acc: 0.9860\n",
      "Epoch 26/100\n",
      "3148/3148 [==============================] - 0s 17us/sample - loss: 0.0988 - acc: 0.9822 - val_loss: 0.0652 - val_acc: 0.9860\n",
      "Epoch 27/100\n",
      "3148/3148 [==============================] - 0s 17us/sample - loss: 0.1098 - acc: 0.9794 - val_loss: 0.0636 - val_acc: 0.9860\n",
      "Epoch 28/100\n",
      "3148/3148 [==============================] - 0s 17us/sample - loss: 0.1003 - acc: 0.9816 - val_loss: 0.0641 - val_acc: 0.9835\n",
      "Epoch 29/100\n",
      "3148/3148 [==============================] - 0s 21us/sample - loss: 0.1033 - acc: 0.9794 - val_loss: 0.0642 - val_acc: 0.9835\n",
      "Epoch 30/100\n",
      "3148/3148 [==============================] - 0s 23us/sample - loss: 0.1078 - acc: 0.9809 - val_loss: 0.0642 - val_acc: 0.9835\n",
      "Epoch 31/100\n",
      "3148/3148 [==============================] - 0s 25us/sample - loss: 0.1075 - acc: 0.9794 - val_loss: 0.0637 - val_acc: 0.9835\n",
      "Epoch 32/100\n",
      "3148/3148 [==============================] - 0s 22us/sample - loss: 0.1041 - acc: 0.9816 - val_loss: 0.0636 - val_acc: 0.9835\n",
      "Epoch 33/100\n",
      "3148/3148 [==============================] - 0s 21us/sample - loss: 0.1098 - acc: 0.9800 - val_loss: 0.0638 - val_acc: 0.9835\n",
      "Epoch 34/100\n",
      "3148/3148 [==============================] - 0s 19us/sample - loss: 0.1100 - acc: 0.9794 - val_loss: 0.0636 - val_acc: 0.9835\n",
      "Epoch 35/100\n",
      "3148/3148 [==============================] - 0s 19us/sample - loss: 0.1088 - acc: 0.9825 - val_loss: 0.0630 - val_acc: 0.9835\n",
      "Epoch 36/100\n",
      "3148/3148 [==============================] - 0s 19us/sample - loss: 0.1060 - acc: 0.9825 - val_loss: 0.0630 - val_acc: 0.9835\n",
      "Epoch 37/100\n",
      "3148/3148 [==============================] - 0s 19us/sample - loss: 0.1057 - acc: 0.9816 - val_loss: 0.0635 - val_acc: 0.9835\n",
      "Epoch 38/100\n",
      "3148/3148 [==============================] - 0s 19us/sample - loss: 0.1056 - acc: 0.9819 - val_loss: 0.0633 - val_acc: 0.9835\n",
      "Epoch 39/100\n",
      "3148/3148 [==============================] - 0s 25us/sample - loss: 0.1003 - acc: 0.9819 - val_loss: 0.0631 - val_acc: 0.9835\n",
      "Epoch 40/100\n",
      "3148/3148 [==============================] - 0s 26us/sample - loss: 0.1032 - acc: 0.9819 - val_loss: 0.0635 - val_acc: 0.9835\n",
      "Epoch 41/100\n",
      "3148/3148 [==============================] - 0s 25us/sample - loss: 0.1012 - acc: 0.9825 - val_loss: 0.0633 - val_acc: 0.9835\n",
      "Epoch 42/100\n",
      "3148/3148 [==============================] - 0s 25us/sample - loss: 0.1041 - acc: 0.9828 - val_loss: 0.0631 - val_acc: 0.9835\n",
      "Epoch 43/100\n",
      "3148/3148 [==============================] - 0s 32us/sample - loss: 0.0979 - acc: 0.9832 - val_loss: 0.0631 - val_acc: 0.9835\n",
      "Epoch 44/100\n",
      "3148/3148 [==============================] - 0s 25us/sample - loss: 0.0946 - acc: 0.9816 - val_loss: 0.0639 - val_acc: 0.9835\n",
      "Epoch 45/100\n",
      "3148/3148 [==============================] - 0s 20us/sample - loss: 0.0994 - acc: 0.9838 - val_loss: 0.0639 - val_acc: 0.9835\n",
      "Epoch 46/100\n",
      "3148/3148 [==============================] - 0s 17us/sample - loss: 0.1016 - acc: 0.9819 - val_loss: 0.0635 - val_acc: 0.9835\n",
      "Epoch 47/100\n",
      "3148/3148 [==============================] - 0s 17us/sample - loss: 0.1019 - acc: 0.9806 - val_loss: 0.0633 - val_acc: 0.9835\n",
      "Epoch 48/100\n",
      "3148/3148 [==============================] - 0s 25us/sample - loss: 0.0980 - acc: 0.9841 - val_loss: 0.0629 - val_acc: 0.9835\n",
      "Epoch 49/100\n",
      "3148/3148 [==============================] - 0s 17us/sample - loss: 0.0858 - acc: 0.9832 - val_loss: 0.0646 - val_acc: 0.9835\n",
      "Epoch 50/100\n",
      "3148/3148 [==============================] - 0s 17us/sample - loss: 0.0942 - acc: 0.9835 - val_loss: 0.0646 - val_acc: 0.9835\n",
      "Epoch 51/100\n",
      "3148/3148 [==============================] - 0s 19us/sample - loss: 0.1010 - acc: 0.9819 - val_loss: 0.0646 - val_acc: 0.9835\n",
      "Epoch 52/100\n",
      "3148/3148 [==============================] - 0s 19us/sample - loss: 0.0998 - acc: 0.9835 - val_loss: 0.0644 - val_acc: 0.9835\n",
      "Epoch 53/100\n",
      "3148/3148 [==============================] - 0s 19us/sample - loss: 0.1002 - acc: 0.9828 - val_loss: 0.0636 - val_acc: 0.9835\n",
      "Epoch 54/100\n",
      "3148/3148 [==============================] - 0s 20us/sample - loss: 0.1036 - acc: 0.9825 - val_loss: 0.0636 - val_acc: 0.9835\n",
      "Epoch 55/100\n",
      "3148/3148 [==============================] - 0s 19us/sample - loss: 0.1006 - acc: 0.9803 - val_loss: 0.0632 - val_acc: 0.9835\n",
      "Epoch 56/100\n",
      "3148/3148 [==============================] - 0s 17us/sample - loss: 0.0979 - acc: 0.9828 - val_loss: 0.0631 - val_acc: 0.9835\n",
      "Epoch 57/100\n",
      "3148/3148 [==============================] - 0s 15us/sample - loss: 0.1005 - acc: 0.9813 - val_loss: 0.0634 - val_acc: 0.9835\n",
      "Epoch 58/100\n",
      "3148/3148 [==============================] - 0s 15us/sample - loss: 0.0997 - acc: 0.9822 - val_loss: 0.0630 - val_acc: 0.9848\n",
      "Epoch 59/100\n"
     ]
    },
    {
     "name": "stdout",
     "output_type": "stream",
     "text": [
      "3148/3148 [==============================] - 0s 16us/sample - loss: 0.0984 - acc: 0.9848 - val_loss: 0.0632 - val_acc: 0.9835\n",
      "Epoch 60/100\n",
      "3148/3148 [==============================] - 0s 22us/sample - loss: 0.0963 - acc: 0.9838 - val_loss: 0.0629 - val_acc: 0.9848\n",
      "Epoch 61/100\n",
      "3148/3148 [==============================] - 0s 17us/sample - loss: 0.0984 - acc: 0.9813 - val_loss: 0.0630 - val_acc: 0.9848\n",
      "Epoch 62/100\n",
      "3148/3148 [==============================] - 0s 16us/sample - loss: 0.0978 - acc: 0.9819 - val_loss: 0.0632 - val_acc: 0.9848\n",
      "Epoch 63/100\n",
      "3148/3148 [==============================] - 0s 16us/sample - loss: 0.0946 - acc: 0.9832 - val_loss: 0.0631 - val_acc: 0.9848\n",
      "Epoch 64/100\n",
      "3148/3148 [==============================] - 0s 18us/sample - loss: 0.0946 - acc: 0.9848 - val_loss: 0.0632 - val_acc: 0.9848\n",
      "Epoch 65/100\n",
      "3148/3148 [==============================] - 0s 21us/sample - loss: 0.0967 - acc: 0.9819 - val_loss: 0.0631 - val_acc: 0.9848\n",
      "Epoch 66/100\n",
      "3148/3148 [==============================] - 0s 19us/sample - loss: 0.1026 - acc: 0.9844 - val_loss: 0.0629 - val_acc: 0.9848\n",
      "Epoch 67/100\n",
      "3148/3148 [==============================] - 0s 18us/sample - loss: 0.1018 - acc: 0.9813 - val_loss: 0.0621 - val_acc: 0.9848\n",
      "Epoch 68/100\n",
      "3148/3148 [==============================] - 0s 21us/sample - loss: 0.0952 - acc: 0.9822 - val_loss: 0.0621 - val_acc: 0.9848\n",
      "Epoch 69/100\n",
      "3148/3148 [==============================] - 0s 18us/sample - loss: 0.0968 - acc: 0.9835 - val_loss: 0.0620 - val_acc: 0.9848\n",
      "Epoch 70/100\n",
      "3148/3148 [==============================] - 0s 17us/sample - loss: 0.0937 - acc: 0.9841 - val_loss: 0.0626 - val_acc: 0.9848\n",
      "Epoch 71/100\n",
      "3148/3148 [==============================] - 0s 17us/sample - loss: 0.0919 - acc: 0.9819 - val_loss: 0.0629 - val_acc: 0.9848\n",
      "Epoch 72/100\n",
      "3148/3148 [==============================] - 0s 17us/sample - loss: 0.0954 - acc: 0.9835 - val_loss: 0.0630 - val_acc: 0.9848\n",
      "Epoch 73/100\n",
      "3148/3148 [==============================] - 0s 17us/sample - loss: 0.0949 - acc: 0.9832 - val_loss: 0.0626 - val_acc: 0.9848\n",
      "Epoch 74/100\n",
      "3148/3148 [==============================] - 0s 18us/sample - loss: 0.0907 - acc: 0.9825 - val_loss: 0.0624 - val_acc: 0.9848\n",
      "Epoch 75/100\n",
      "3148/3148 [==============================] - 0s 19us/sample - loss: 0.0939 - acc: 0.9828 - val_loss: 0.0629 - val_acc: 0.9848\n",
      "Epoch 76/100\n",
      "3148/3148 [==============================] - 0s 18us/sample - loss: 0.0911 - acc: 0.9841 - val_loss: 0.0624 - val_acc: 0.9848\n",
      "Epoch 77/100\n",
      "3148/3148 [==============================] - 0s 18us/sample - loss: 0.0928 - acc: 0.9835 - val_loss: 0.0623 - val_acc: 0.9848\n",
      "Epoch 78/100\n",
      "3148/3148 [==============================] - 0s 16us/sample - loss: 0.0965 - acc: 0.9813 - val_loss: 0.0626 - val_acc: 0.9848\n",
      "Epoch 79/100\n",
      "3148/3148 [==============================] - 0s 16us/sample - loss: 0.0908 - acc: 0.9819 - val_loss: 0.0624 - val_acc: 0.9848\n",
      "Epoch 80/100\n",
      "3148/3148 [==============================] - 0s 15us/sample - loss: 0.0890 - acc: 0.9844 - val_loss: 0.0630 - val_acc: 0.9848\n",
      "Epoch 81/100\n",
      "3148/3148 [==============================] - 0s 16us/sample - loss: 0.0942 - acc: 0.9822 - val_loss: 0.0633 - val_acc: 0.9835\n",
      "Epoch 82/100\n",
      "3148/3148 [==============================] - 0s 16us/sample - loss: 0.0928 - acc: 0.9813 - val_loss: 0.0634 - val_acc: 0.9835\n",
      "Epoch 83/100\n",
      "3148/3148 [==============================] - 0s 17us/sample - loss: 0.0924 - acc: 0.9838 - val_loss: 0.0633 - val_acc: 0.9835\n",
      "Epoch 84/100\n",
      "3148/3148 [==============================] - 0s 17us/sample - loss: 0.0906 - acc: 0.9819 - val_loss: 0.0632 - val_acc: 0.9848\n",
      "Epoch 85/100\n",
      "3148/3148 [==============================] - 0s 19us/sample - loss: 0.0919 - acc: 0.9806 - val_loss: 0.0633 - val_acc: 0.9835\n",
      "Epoch 86/100\n",
      "3148/3148 [==============================] - 0s 20us/sample - loss: 0.0916 - acc: 0.9825 - val_loss: 0.0634 - val_acc: 0.9835\n",
      "Epoch 87/100\n",
      "3148/3148 [==============================] - 0s 20us/sample - loss: 0.0942 - acc: 0.9819 - val_loss: 0.0634 - val_acc: 0.9835\n",
      "Epoch 88/100\n",
      "3148/3148 [==============================] - 0s 18us/sample - loss: 0.0918 - acc: 0.9819 - val_loss: 0.0628 - val_acc: 0.9848\n",
      "Epoch 89/100\n",
      "3148/3148 [==============================] - 0s 17us/sample - loss: 0.0857 - acc: 0.9835 - val_loss: 0.0630 - val_acc: 0.9835\n",
      "Epoch 90/100\n",
      "3148/3148 [==============================] - 0s 17us/sample - loss: 0.0928 - acc: 0.9844 - val_loss: 0.0632 - val_acc: 0.9835\n",
      "Epoch 91/100\n",
      "3148/3148 [==============================] - 0s 16us/sample - loss: 0.0977 - acc: 0.9825 - val_loss: 0.0635 - val_acc: 0.9835\n",
      "Epoch 92/100\n",
      "3148/3148 [==============================] - 0s 15us/sample - loss: 0.0862 - acc: 0.9844 - val_loss: 0.0636 - val_acc: 0.9835\n",
      "Epoch 93/100\n",
      "3148/3148 [==============================] - 0s 15us/sample - loss: 0.0887 - acc: 0.9825 - val_loss: 0.0638 - val_acc: 0.9835\n",
      "Epoch 94/100\n",
      "3148/3148 [==============================] - 0s 16us/sample - loss: 0.0872 - acc: 0.9816 - val_loss: 0.0636 - val_acc: 0.9835\n",
      "Epoch 95/100\n",
      "3148/3148 [==============================] - 0s 16us/sample - loss: 0.0934 - acc: 0.9819 - val_loss: 0.0637 - val_acc: 0.9835\n",
      "Epoch 96/100\n",
      "3148/3148 [==============================] - 0s 16us/sample - loss: 0.0874 - acc: 0.9835 - val_loss: 0.0633 - val_acc: 0.9835\n",
      "Epoch 97/100\n",
      "3148/3148 [==============================] - 0s 16us/sample - loss: 0.0888 - acc: 0.9838 - val_loss: 0.0632 - val_acc: 0.9835\n",
      "Epoch 98/100\n",
      "3148/3148 [==============================] - 0s 15us/sample - loss: 0.0936 - acc: 0.9822 - val_loss: 0.0631 - val_acc: 0.9848\n",
      "Epoch 99/100\n",
      "3148/3148 [==============================] - 0s 16us/sample - loss: 0.0908 - acc: 0.9835 - val_loss: 0.0630 - val_acc: 0.9848\n",
      "Epoch 100/100\n",
      "3148/3148 [==============================] - 0s 15us/sample - loss: 0.0885 - acc: 0.9819 - val_loss: 0.0626 - val_acc: 0.9848\n"
     ]
    }
   ],
   "source": [
    "hist = modeln.fit(df, y_train, epochs=100, batch_size=100, validation_split=0.2)"
   ]
  },
  {
   "cell_type": "code",
   "execution_count": 37,
   "metadata": {},
   "outputs": [
    {
     "data": {
      "image/png": "[encoded data removed]",
      "text/plain": [
       "<Figure size 576x396 with 1 Axes>"
      ]
     },
     "metadata": {},
     "output_type": "display_data"
    },
    {
     "data": {
      "image/png": "[encoded data removed]",
      "text/plain": [
       "<Figure size 576x396 with 1 Axes>"
      ]
     },
     "metadata": {},
     "output_type": "display_data"
    }
   ],
   "source": [
    "plt.plot(hist.history['acc'])\n",
    "plt.plot(hist.history['val_acc'])\n",
    "plt.title('Model accuracy')\n",
    "plt.ylabel('Accuracy')\n",
    "plt.xlabel('Epoch')\n",
    "plt.legend(['Train', 'Test'], loc='upper left')\n",
    "plt.show()\n",
    "\n",
    "# Plot training & validation loss values\n",
    "plt.plot(hist.history['loss'])\n",
    "plt.plot(hist.history['val_loss'])\n",
    "plt.title('Model loss')\n",
    "plt.ylabel('Loss')\n",
    "plt.xlabel('Epoch')\n",
    "plt.legend(['Train', 'Test'], loc='upper left')\n",
    "plt.show()"
   ]
  },
  {
   "cell_type": "code",
   "execution_count": 38,
   "metadata": {},
   "outputs": [],
   "source": [
    "prob_kerasn = modeln.predict(df_test)\n",
    "test_predn = [round(x[0]) for x in prob_kerasn]\n",
    "train_predn = modeln.predict(df)\n",
    "train_predn = [round(x[0]) for x in train_predn]"
   ]
  },
  {
   "cell_type": "code",
   "execution_count": 39,
   "metadata": {
    "scrolled": true
   },
   "outputs": [
    {
     "name": "stdout",
     "output_type": "stream",
     "text": [
      "This model has Training accuracy: 0.9860 ; and testing accuracy 0.9858\n",
      "               Training auc: 0.9869 ; and testing auc 0.9878\n",
      "               Training precision: 0.8647 ; and testing precision 0.8870\n",
      "               Training recall: 0.9879 ; and testing recall 0.9903\n"
     ]
    }
   ],
   "source": [
    "_,_=summary_level1(train_predn, test_predn, y_train, y_test)"
   ]
  },
  {
   "cell_type": "markdown",
   "metadata": {},
   "source": [
    "## Finally, due to Neural Networks ability to efficiently handle high dimensional features, we try feeding the entire dataset with the meta learners "
   ]
  },
  {
   "cell_type": "code",
   "execution_count": 40,
   "metadata": {},
   "outputs": [],
   "source": [
    "nn_df = pd.concat([x_train.reset_index(drop=True), train_pred1.reset_index(drop=True),\n",
    "                   train_pred2.reset_index(drop=True),train_pred3.reset_index(drop=True),\n",
    "                   train_pred4.reset_index(drop=True),\n",
    "                   train_pred6.reset_index(drop=True),train_pred7.reset_index(drop=True),\n",
    "                   train_pred8.reset_index(drop=True),train_pred9.reset_index(drop=True),\n",
    "                   train_pred10.reset_index(drop=True)], axis=1)\n",
    "\n",
    "nn_df_test = pd.concat([x_test.reset_index(drop=True), test_pred1.reset_index(drop=True),\n",
    "                   test_pred2.reset_index(drop=True),test_pred3.reset_index(drop=True),\n",
    "                   test_pred4.reset_index(drop=True),\n",
    "                   test_pred6.reset_index(drop=True),test_pred7.reset_index(drop=True),\n",
    "                   test_pred8.reset_index(drop=True),test_pred9.reset_index(drop=True),\n",
    "                   test_pred10.reset_index(drop=True)], axis=1)"
   ]
  },
  {
   "cell_type": "code",
   "execution_count": 41,
   "metadata": {},
   "outputs": [],
   "source": [
    "nn_model = Sequential()\n",
    "nn_model.add(Dense(30, input_shape=(40-1,), activation='relu')) # Hidden 1\n",
    "nn_model.add(Dropout(0.3))\n",
    "nn_model.add(Dense(15, activation='relu')) # Hidden 2\n",
    "nn_model.add(Dropout(0.3))\n",
    "nn_model.add(Dense(7, activation='relu')) # Hidden 2\n",
    "nn_model.add(Dropout(0.3))\n",
    "nn_model.add(Dense(1, activation='sigmoid')) # Output\n",
    "\n",
    "nn_model.compile(loss='binary_crossentropy', optimizer='Adam', metrics = ['acc'])"
   ]
  },
  {
   "cell_type": "code",
   "execution_count": 42,
   "metadata": {
    "scrolled": true
   },
   "outputs": [
    {
     "name": "stdout",
     "output_type": "stream",
     "text": [
      "Train on 2755 samples, validate on 1181 samples\n",
      "Epoch 1/100\n",
      "2755/2755 [==============================] - 0s 176us/sample - loss: 0.6298 - acc: 0.6973 - val_loss: 0.5148 - val_acc: 0.9483\n",
      "Epoch 2/100\n",
      "2755/2755 [==============================] - 0s 18us/sample - loss: 0.5010 - acc: 0.8472 - val_loss: 0.3729 - val_acc: 0.9729\n",
      "Epoch 3/100\n",
      "2755/2755 [==============================] - 0s 18us/sample - loss: 0.4007 - acc: 0.9158 - val_loss: 0.2536 - val_acc: 0.9797\n",
      "Epoch 4/100\n",
      "2755/2755 [==============================] - 0s 18us/sample - loss: 0.3382 - acc: 0.9270 - val_loss: 0.1777 - val_acc: 0.9822\n",
      "Epoch 5/100\n",
      "2755/2755 [==============================] - 0s 18us/sample - loss: 0.2721 - acc: 0.9372 - val_loss: 0.1270 - val_acc: 0.9822\n",
      "Epoch 6/100\n",
      "2755/2755 [==============================] - 0s 18us/sample - loss: 0.2291 - acc: 0.9448 - val_loss: 0.0960 - val_acc: 0.9831\n",
      "Epoch 7/100\n",
      "2755/2755 [==============================] - 0s 18us/sample - loss: 0.2016 - acc: 0.9550 - val_loss: 0.0793 - val_acc: 0.9822\n",
      "Epoch 8/100\n",
      "2755/2755 [==============================] - 0s 18us/sample - loss: 0.1866 - acc: 0.9619 - val_loss: 0.0715 - val_acc: 0.9848\n",
      "Epoch 9/100\n",
      "2755/2755 [==============================] - 0s 18us/sample - loss: 0.1614 - acc: 0.9623 - val_loss: 0.0673 - val_acc: 0.9865\n",
      "Epoch 10/100\n",
      "2755/2755 [==============================] - 0s 18us/sample - loss: 0.1561 - acc: 0.9673 - val_loss: 0.0641 - val_acc: 0.9865\n",
      "Epoch 11/100\n",
      "2755/2755 [==============================] - 0s 18us/sample - loss: 0.1447 - acc: 0.9666 - val_loss: 0.0619 - val_acc: 0.9865\n",
      "Epoch 12/100\n",
      "2755/2755 [==============================] - 0s 18us/sample - loss: 0.1344 - acc: 0.9655 - val_loss: 0.0608 - val_acc: 0.9865\n",
      "Epoch 13/100\n",
      "2755/2755 [==============================] - 0s 18us/sample - loss: 0.1179 - acc: 0.9684 - val_loss: 0.0614 - val_acc: 0.9865\n",
      "Epoch 14/100\n",
      "2755/2755 [==============================] - 0s 18us/sample - loss: 0.1236 - acc: 0.9699 - val_loss: 0.0613 - val_acc: 0.9856\n",
      "Epoch 15/100\n",
      "2755/2755 [==============================] - 0s 18us/sample - loss: 0.1064 - acc: 0.9739 - val_loss: 0.0620 - val_acc: 0.9865\n",
      "Epoch 16/100\n",
      "2755/2755 [==============================] - 0s 18us/sample - loss: 0.1216 - acc: 0.9713 - val_loss: 0.0614 - val_acc: 0.9865\n",
      "Epoch 17/100\n",
      "2755/2755 [==============================] - 0s 18us/sample - loss: 0.1262 - acc: 0.9699 - val_loss: 0.0622 - val_acc: 0.9865\n",
      "Epoch 18/100\n",
      "2755/2755 [==============================] - 0s 18us/sample - loss: 0.1188 - acc: 0.9684 - val_loss: 0.0613 - val_acc: 0.9856\n",
      "Epoch 19/100\n",
      "2755/2755 [==============================] - 0s 18us/sample - loss: 0.1091 - acc: 0.9659 - val_loss: 0.0616 - val_acc: 0.9856\n",
      "Epoch 20/100\n",
      "2755/2755 [==============================] - 0s 18us/sample - loss: 0.0993 - acc: 0.9699 - val_loss: 0.0627 - val_acc: 0.9856\n",
      "Epoch 21/100\n",
      "2755/2755 [==============================] - 0s 18us/sample - loss: 0.0940 - acc: 0.9728 - val_loss: 0.0633 - val_acc: 0.9856\n",
      "Epoch 22/100\n",
      "2755/2755 [==============================] - 0s 18us/sample - loss: 0.0963 - acc: 0.9695 - val_loss: 0.0634 - val_acc: 0.9856\n",
      "Epoch 23/100\n",
      "2755/2755 [==============================] - 0s 18us/sample - loss: 0.0941 - acc: 0.9717 - val_loss: 0.0643 - val_acc: 0.9865\n",
      "Epoch 24/100\n",
      "2755/2755 [==============================] - 0s 19us/sample - loss: 0.0888 - acc: 0.9739 - val_loss: 0.0643 - val_acc: 0.9865\n",
      "Epoch 25/100\n",
      "2755/2755 [==============================] - 0s 18us/sample - loss: 0.0944 - acc: 0.9746 - val_loss: 0.0638 - val_acc: 0.9865\n",
      "Epoch 26/100\n",
      "2755/2755 [==============================] - 0s 18us/sample - loss: 0.0865 - acc: 0.9735 - val_loss: 0.0640 - val_acc: 0.9865\n",
      "Epoch 27/100\n",
      "2755/2755 [==============================] - 0s 18us/sample - loss: 0.0858 - acc: 0.9724 - val_loss: 0.0635 - val_acc: 0.9865\n",
      "Epoch 28/100\n",
      "2755/2755 [==============================] - 0s 18us/sample - loss: 0.0841 - acc: 0.9746 - val_loss: 0.0643 - val_acc: 0.9865\n",
      "Epoch 29/100\n",
      "2755/2755 [==============================] - 0s 18us/sample - loss: 0.0730 - acc: 0.9735 - val_loss: 0.0651 - val_acc: 0.9865\n",
      "Epoch 30/100\n",
      "2755/2755 [==============================] - 0s 18us/sample - loss: 0.0943 - acc: 0.9739 - val_loss: 0.0641 - val_acc: 0.9865\n",
      "Epoch 31/100\n",
      "2755/2755 [==============================] - 0s 18us/sample - loss: 0.0820 - acc: 0.9750 - val_loss: 0.0652 - val_acc: 0.9865\n",
      "Epoch 32/100\n",
      "2755/2755 [==============================] - 0s 19us/sample - loss: 0.0801 - acc: 0.9771 - val_loss: 0.0655 - val_acc: 0.9865\n",
      "Epoch 33/100\n",
      "2755/2755 [==============================] - 0s 18us/sample - loss: 0.0864 - acc: 0.9739 - val_loss: 0.0653 - val_acc: 0.9865\n",
      "Epoch 34/100\n",
      "2755/2755 [==============================] - 0s 18us/sample - loss: 0.0811 - acc: 0.9710 - val_loss: 0.0660 - val_acc: 0.9865\n",
      "Epoch 35/100\n",
      "2755/2755 [==============================] - 0s 18us/sample - loss: 0.0832 - acc: 0.9760 - val_loss: 0.0667 - val_acc: 0.9865\n",
      "Epoch 36/100\n",
      "2755/2755 [==============================] - 0s 18us/sample - loss: 0.0727 - acc: 0.9746 - val_loss: 0.0675 - val_acc: 0.9865\n",
      "Epoch 37/100\n",
      "2755/2755 [==============================] - 0s 18us/sample - loss: 0.0722 - acc: 0.9789 - val_loss: 0.0681 - val_acc: 0.9865\n",
      "Epoch 38/100\n",
      "2755/2755 [==============================] - 0s 18us/sample - loss: 0.0908 - acc: 0.9706 - val_loss: 0.0674 - val_acc: 0.9865\n",
      "Epoch 39/100\n",
      "2755/2755 [==============================] - 0s 18us/sample - loss: 0.0722 - acc: 0.9750 - val_loss: 0.0666 - val_acc: 0.9865\n",
      "Epoch 40/100\n",
      "2755/2755 [==============================] - 0s 18us/sample - loss: 0.0780 - acc: 0.9771 - val_loss: 0.0681 - val_acc: 0.9865\n",
      "Epoch 41/100\n",
      "2755/2755 [==============================] - 0s 18us/sample - loss: 0.0695 - acc: 0.9768 - val_loss: 0.0693 - val_acc: 0.9865\n",
      "Epoch 42/100\n",
      "2755/2755 [==============================] - 0s 20us/sample - loss: 0.0740 - acc: 0.9739 - val_loss: 0.0696 - val_acc: 0.9865\n",
      "Epoch 43/100\n",
      "2755/2755 [==============================] - 0s 17us/sample - loss: 0.0703 - acc: 0.9760 - val_loss: 0.0698 - val_acc: 0.9865\n",
      "Epoch 44/100\n",
      "2755/2755 [==============================] - 0s 18us/sample - loss: 0.0698 - acc: 0.9753 - val_loss: 0.0690 - val_acc: 0.9865\n",
      "Epoch 45/100\n",
      "2755/2755 [==============================] - 0s 18us/sample - loss: 0.0701 - acc: 0.9789 - val_loss: 0.0695 - val_acc: 0.9865\n",
      "Epoch 46/100\n",
      "2755/2755 [==============================] - 0s 18us/sample - loss: 0.0663 - acc: 0.9735 - val_loss: 0.0694 - val_acc: 0.9865\n",
      "Epoch 47/100\n",
      "2755/2755 [==============================] - 0s 18us/sample - loss: 0.0710 - acc: 0.9750 - val_loss: 0.0718 - val_acc: 0.9873\n",
      "Epoch 48/100\n",
      "2755/2755 [==============================] - 0s 19us/sample - loss: 0.0769 - acc: 0.9746 - val_loss: 0.0688 - val_acc: 0.9873\n",
      "Epoch 49/100\n",
      "2755/2755 [==============================] - 0s 18us/sample - loss: 0.0776 - acc: 0.9750 - val_loss: 0.0693 - val_acc: 0.9873\n",
      "Epoch 50/100\n",
      "2755/2755 [==============================] - 0s 19us/sample - loss: 0.0792 - acc: 0.9742 - val_loss: 0.0698 - val_acc: 0.9873\n",
      "Epoch 51/100\n",
      "2755/2755 [==============================] - 0s 18us/sample - loss: 0.0693 - acc: 0.9775 - val_loss: 0.0715 - val_acc: 0.9873\n",
      "Epoch 52/100\n",
      "2755/2755 [==============================] - 0s 18us/sample - loss: 0.0666 - acc: 0.9731 - val_loss: 0.0714 - val_acc: 0.9873\n",
      "Epoch 53/100\n",
      "2755/2755 [==============================] - 0s 17us/sample - loss: 0.0702 - acc: 0.9789 - val_loss: 0.0709 - val_acc: 0.9873\n",
      "Epoch 54/100\n",
      "2755/2755 [==============================] - 0s 17us/sample - loss: 0.0699 - acc: 0.9742 - val_loss: 0.0687 - val_acc: 0.9873\n",
      "Epoch 55/100\n",
      "2755/2755 [==============================] - 0s 18us/sample - loss: 0.0630 - acc: 0.9768 - val_loss: 0.0709 - val_acc: 0.9873\n",
      "Epoch 56/100\n",
      "2755/2755 [==============================] - 0s 18us/sample - loss: 0.0674 - acc: 0.9789 - val_loss: 0.0709 - val_acc: 0.9873\n",
      "Epoch 57/100\n",
      "2755/2755 [==============================] - 0s 17us/sample - loss: 0.0599 - acc: 0.9753 - val_loss: 0.0721 - val_acc: 0.9873\n",
      "Epoch 58/100\n",
      "2755/2755 [==============================] - 0s 18us/sample - loss: 0.0669 - acc: 0.9775 - val_loss: 0.0732 - val_acc: 0.9865\n",
      "Epoch 59/100\n"
     ]
    },
    {
     "name": "stdout",
     "output_type": "stream",
     "text": [
      "2755/2755 [==============================] - 0s 18us/sample - loss: 0.0742 - acc: 0.9735 - val_loss: 0.0732 - val_acc: 0.9873\n",
      "Epoch 60/100\n",
      "2755/2755 [==============================] - 0s 18us/sample - loss: 0.0530 - acc: 0.9800 - val_loss: 0.0767 - val_acc: 0.9873\n",
      "Epoch 61/100\n",
      "2755/2755 [==============================] - 0s 18us/sample - loss: 0.0560 - acc: 0.9797 - val_loss: 0.0782 - val_acc: 0.9873\n",
      "Epoch 62/100\n",
      "2755/2755 [==============================] - 0s 18us/sample - loss: 0.0655 - acc: 0.9797 - val_loss: 0.0795 - val_acc: 0.9873\n",
      "Epoch 63/100\n",
      "2755/2755 [==============================] - 0s 18us/sample - loss: 0.0572 - acc: 0.9771 - val_loss: 0.0794 - val_acc: 0.9873\n",
      "Epoch 64/100\n",
      "2755/2755 [==============================] - 0s 18us/sample - loss: 0.0713 - acc: 0.9771 - val_loss: 0.0772 - val_acc: 0.9873\n",
      "Epoch 65/100\n",
      "2755/2755 [==============================] - 0s 17us/sample - loss: 0.0594 - acc: 0.9779 - val_loss: 0.0764 - val_acc: 0.9873\n",
      "Epoch 66/100\n",
      "2755/2755 [==============================] - 0s 18us/sample - loss: 0.0650 - acc: 0.9757 - val_loss: 0.0793 - val_acc: 0.9873\n",
      "Epoch 67/100\n",
      "2755/2755 [==============================] - 0s 18us/sample - loss: 0.0558 - acc: 0.9771 - val_loss: 0.0783 - val_acc: 0.9873\n",
      "Epoch 68/100\n",
      "2755/2755 [==============================] - 0s 18us/sample - loss: 0.0607 - acc: 0.9811 - val_loss: 0.0782 - val_acc: 0.9873\n",
      "Epoch 69/100\n",
      "2755/2755 [==============================] - 0s 18us/sample - loss: 0.0552 - acc: 0.9819 - val_loss: 0.0784 - val_acc: 0.9873\n",
      "Epoch 70/100\n",
      "2755/2755 [==============================] - 0s 17us/sample - loss: 0.0565 - acc: 0.9808 - val_loss: 0.0794 - val_acc: 0.9873\n",
      "Epoch 71/100\n",
      "2755/2755 [==============================] - 0s 18us/sample - loss: 0.0512 - acc: 0.9811 - val_loss: 0.0792 - val_acc: 0.9873\n",
      "Epoch 72/100\n",
      "2755/2755 [==============================] - 0s 19us/sample - loss: 0.0622 - acc: 0.9775 - val_loss: 0.0810 - val_acc: 0.9873\n",
      "Epoch 73/100\n",
      "2755/2755 [==============================] - 0s 18us/sample - loss: 0.0661 - acc: 0.9789 - val_loss: 0.0812 - val_acc: 0.9873\n",
      "Epoch 74/100\n",
      "2755/2755 [==============================] - 0s 18us/sample - loss: 0.0554 - acc: 0.9789 - val_loss: 0.0822 - val_acc: 0.9881\n",
      "Epoch 75/100\n",
      "2755/2755 [==============================] - 0s 18us/sample - loss: 0.0609 - acc: 0.9775 - val_loss: 0.0825 - val_acc: 0.9881\n",
      "Epoch 76/100\n",
      "2755/2755 [==============================] - 0s 18us/sample - loss: 0.0550 - acc: 0.9800 - val_loss: 0.0821 - val_acc: 0.9873\n",
      "Epoch 77/100\n",
      "2755/2755 [==============================] - 0s 18us/sample - loss: 0.0558 - acc: 0.9800 - val_loss: 0.0821 - val_acc: 0.9873\n",
      "Epoch 78/100\n",
      "2755/2755 [==============================] - 0s 18us/sample - loss: 0.0559 - acc: 0.9786 - val_loss: 0.0825 - val_acc: 0.9873\n",
      "Epoch 79/100\n",
      "2755/2755 [==============================] - 0s 18us/sample - loss: 0.0565 - acc: 0.9829 - val_loss: 0.0809 - val_acc: 0.9881\n",
      "Epoch 80/100\n",
      "2755/2755 [==============================] - 0s 18us/sample - loss: 0.0632 - acc: 0.9764 - val_loss: 0.0802 - val_acc: 0.9881\n",
      "Epoch 81/100\n",
      "2755/2755 [==============================] - 0s 18us/sample - loss: 0.0535 - acc: 0.9808 - val_loss: 0.0821 - val_acc: 0.9881\n",
      "Epoch 82/100\n",
      "2755/2755 [==============================] - 0s 19us/sample - loss: 0.0578 - acc: 0.9782 - val_loss: 0.0849 - val_acc: 0.9881\n",
      "Epoch 83/100\n",
      "2755/2755 [==============================] - 0s 17us/sample - loss: 0.0624 - acc: 0.9764 - val_loss: 0.0836 - val_acc: 0.9881\n",
      "Epoch 84/100\n",
      "2755/2755 [==============================] - 0s 17us/sample - loss: 0.0550 - acc: 0.9840 - val_loss: 0.0845 - val_acc: 0.9890\n",
      "Epoch 85/100\n",
      "2755/2755 [==============================] - 0s 17us/sample - loss: 0.0505 - acc: 0.9797 - val_loss: 0.0862 - val_acc: 0.9881\n",
      "Epoch 86/100\n",
      "2755/2755 [==============================] - 0s 17us/sample - loss: 0.0532 - acc: 0.9804 - val_loss: 0.0890 - val_acc: 0.9881\n",
      "Epoch 87/100\n",
      "2755/2755 [==============================] - 0s 18us/sample - loss: 0.0464 - acc: 0.9779 - val_loss: 0.0894 - val_acc: 0.9881\n",
      "Epoch 88/100\n",
      "2755/2755 [==============================] - 0s 18us/sample - loss: 0.0482 - acc: 0.9782 - val_loss: 0.0930 - val_acc: 0.9881\n",
      "Epoch 89/100\n",
      "2755/2755 [==============================] - 0s 18us/sample - loss: 0.0600 - acc: 0.9771 - val_loss: 0.0920 - val_acc: 0.9881\n",
      "Epoch 90/100\n",
      "2755/2755 [==============================] - 0s 18us/sample - loss: 0.0523 - acc: 0.9804 - val_loss: 0.0952 - val_acc: 0.9881\n",
      "Epoch 91/100\n",
      "2755/2755 [==============================] - 0s 18us/sample - loss: 0.0503 - acc: 0.9826 - val_loss: 0.0969 - val_acc: 0.9881\n",
      "Epoch 92/100\n",
      "2755/2755 [==============================] - 0s 18us/sample - loss: 0.0444 - acc: 0.9797 - val_loss: 0.0968 - val_acc: 0.9881\n",
      "Epoch 93/100\n",
      "2755/2755 [==============================] - 0s 17us/sample - loss: 0.0459 - acc: 0.9815 - val_loss: 0.0981 - val_acc: 0.9881\n",
      "Epoch 94/100\n",
      "2755/2755 [==============================] - 0s 18us/sample - loss: 0.0473 - acc: 0.9782 - val_loss: 0.0990 - val_acc: 0.9881\n",
      "Epoch 95/100\n",
      "2755/2755 [==============================] - 0s 18us/sample - loss: 0.0448 - acc: 0.9822 - val_loss: 0.0994 - val_acc: 0.9890\n",
      "Epoch 96/100\n",
      "2755/2755 [==============================] - 0s 18us/sample - loss: 0.0432 - acc: 0.9811 - val_loss: 0.1015 - val_acc: 0.9890\n",
      "Epoch 97/100\n",
      "2755/2755 [==============================] - 0s 18us/sample - loss: 0.0479 - acc: 0.9833 - val_loss: 0.0995 - val_acc: 0.9881\n",
      "Epoch 98/100\n",
      "2755/2755 [==============================] - 0s 18us/sample - loss: 0.0406 - acc: 0.9811 - val_loss: 0.1000 - val_acc: 0.9881\n",
      "Epoch 99/100\n",
      "2755/2755 [==============================] - 0s 17us/sample - loss: 0.0477 - acc: 0.9804 - val_loss: 0.1027 - val_acc: 0.9890\n",
      "Epoch 100/100\n",
      "2755/2755 [==============================] - 0s 18us/sample - loss: 0.0438 - acc: 0.9833 - val_loss: 0.1064 - val_acc: 0.9890\n"
     ]
    }
   ],
   "source": [
    "history = nn_model.fit(nn_df, y_train, epochs=100, batch_size=100, validation_split=0.3)"
   ]
  },
  {
   "cell_type": "code",
   "execution_count": 43,
   "metadata": {},
   "outputs": [
    {
     "data": {
      "image/png": "[encoded data removed]",
      "text/plain": [
       "<Figure size 576x396 with 1 Axes>"
      ]
     },
     "metadata": {},
     "output_type": "display_data"
    },
    {
     "data": {
      "image/png": "[encoded data removed]",
      "text/plain": [
       "<Figure size 576x396 with 1 Axes>"
      ]
     },
     "metadata": {},
     "output_type": "display_data"
    }
   ],
   "source": [
    "plt.plot(history.history['acc'])\n",
    "plt.plot(history.history['val_acc'])\n",
    "plt.title('Model accuracy')\n",
    "plt.ylabel('Accuracy')\n",
    "plt.xlabel('Epoch')\n",
    "plt.legend(['Train', 'Test'], loc='upper left')\n",
    "plt.show()\n",
    "\n",
    "# Plot training & validation loss values\n",
    "plt.plot(history.history['loss'])\n",
    "plt.plot(history.history['val_loss'])\n",
    "plt.title('Model loss')\n",
    "plt.ylabel('Loss')\n",
    "plt.xlabel('Epoch')\n",
    "plt.legend(['Train', 'Test'], loc='upper left')\n",
    "plt.show()"
   ]
  },
  {
   "cell_type": "code",
   "execution_count": 44,
   "metadata": {},
   "outputs": [],
   "source": [
    "nn_test_pred = nn_model.predict(nn_df_test)\n",
    "nn_test_pred = [round(x[0]) for x in nn_test_pred]"
   ]
  },
  {
   "cell_type": "code",
   "execution_count": 45,
   "metadata": {},
   "outputs": [],
   "source": [
    "nn_train_pred = nn_model.predict(nn_df)\n",
    "nn_train_pred = [round(x[0]) for x in nn_train_pred]"
   ]
  },
  {
   "cell_type": "code",
   "execution_count": 46,
   "metadata": {},
   "outputs": [
    {
     "name": "stdout",
     "output_type": "stream",
     "text": [
      "This model has Training accuracy: 0.9916 ; and testing accuracy 0.9837\n",
      "               Training auc: 0.9941 ; and testing auc 0.9745\n",
      "               Training precision: 0.9151 ; and testing precision 0.8957\n",
      "               Training recall: 0.9971 ; and testing recall 0.9626\n"
     ]
    }
   ],
   "source": [
    "_,_=summary_level1(nn_train_pred, nn_test_pred, y_train, y_test)"
   ]
  },
  {
   "cell_type": "code",
   "execution_count": 47,
   "metadata": {},
   "outputs": [],
   "source": [
    "nn_probs = nn_model.predict_proba(nn_df_test)"
   ]
  },
  {
   "cell_type": "code",
   "execution_count": 50,
   "metadata": {},
   "outputs": [
    {
     "data": {
      "text/html": [
       "<div>\n",
       "<style scoped>\n",
       "    .dataframe tbody tr th:only-of-type {\n",
       "        vertical-align: middle;\n",
       "    }\n",
       "\n",
       "    .dataframe tbody tr th {\n",
       "        vertical-align: top;\n",
       "    }\n",
       "\n",
       "    .dataframe thead th {\n",
       "        text-align: right;\n",
       "    }\n",
       "</style>\n",
       "<table border=\"1\" class=\"dataframe\">\n",
       "  <thead>\n",
       "    <tr style=\"text-align: right;\">\n",
       "      <th></th>\n",
       "      <th>V1</th>\n",
       "      <th>V2</th>\n",
       "      <th>V3</th>\n",
       "      <th>V4</th>\n",
       "      <th>V5</th>\n",
       "      <th>V6</th>\n",
       "      <th>V7</th>\n",
       "      <th>V8</th>\n",
       "      <th>V9</th>\n",
       "      <th>V10</th>\n",
       "      <th>...</th>\n",
       "      <th>scaled_time</th>\n",
       "      <th>0</th>\n",
       "      <th>0</th>\n",
       "      <th>0</th>\n",
       "      <th>0</th>\n",
       "      <th>0</th>\n",
       "      <th>0</th>\n",
       "      <th>0</th>\n",
       "      <th>0</th>\n",
       "      <th>0</th>\n",
       "    </tr>\n",
       "  </thead>\n",
       "  <tbody>\n",
       "    <tr>\n",
       "      <th>0</th>\n",
       "      <td>-0.756516</td>\n",
       "      <td>1.068593</td>\n",
       "      <td>1.532464</td>\n",
       "      <td>-0.193738</td>\n",
       "      <td>0.018853</td>\n",
       "      <td>-0.268830</td>\n",
       "      <td>0.461129</td>\n",
       "      <td>0.244064</td>\n",
       "      <td>-0.409166</td>\n",
       "      <td>0.139339</td>\n",
       "      <td>...</td>\n",
       "      <td>-0.078772</td>\n",
       "      <td>0</td>\n",
       "      <td>0</td>\n",
       "      <td>0</td>\n",
       "      <td>0</td>\n",
       "      <td>0</td>\n",
       "      <td>0</td>\n",
       "      <td>0</td>\n",
       "      <td>0</td>\n",
       "      <td>0</td>\n",
       "    </tr>\n",
       "    <tr>\n",
       "      <th>1</th>\n",
       "      <td>-2.025992</td>\n",
       "      <td>-1.252391</td>\n",
       "      <td>1.539821</td>\n",
       "      <td>0.101042</td>\n",
       "      <td>2.159934</td>\n",
       "      <td>-1.966541</td>\n",
       "      <td>-0.734649</td>\n",
       "      <td>0.305664</td>\n",
       "      <td>-0.066600</td>\n",
       "      <td>-0.777599</td>\n",
       "      <td>...</td>\n",
       "      <td>-0.086444</td>\n",
       "      <td>0</td>\n",
       "      <td>0</td>\n",
       "      <td>0</td>\n",
       "      <td>0</td>\n",
       "      <td>0</td>\n",
       "      <td>0</td>\n",
       "      <td>0</td>\n",
       "      <td>0</td>\n",
       "      <td>0</td>\n",
       "    </tr>\n",
       "    <tr>\n",
       "      <th>2</th>\n",
       "      <td>0.686957</td>\n",
       "      <td>-1.580332</td>\n",
       "      <td>-0.790755</td>\n",
       "      <td>-0.684467</td>\n",
       "      <td>1.030443</td>\n",
       "      <td>3.980299</td>\n",
       "      <td>-0.835597</td>\n",
       "      <td>0.976344</td>\n",
       "      <td>1.040306</td>\n",
       "      <td>-0.531021</td>\n",
       "      <td>...</td>\n",
       "      <td>-0.377530</td>\n",
       "      <td>0</td>\n",
       "      <td>0</td>\n",
       "      <td>0</td>\n",
       "      <td>0</td>\n",
       "      <td>0</td>\n",
       "      <td>0</td>\n",
       "      <td>0</td>\n",
       "      <td>0</td>\n",
       "      <td>0</td>\n",
       "    </tr>\n",
       "    <tr>\n",
       "      <th>3</th>\n",
       "      <td>2.309621</td>\n",
       "      <td>-1.490625</td>\n",
       "      <td>-1.145140</td>\n",
       "      <td>-1.714157</td>\n",
       "      <td>-0.967642</td>\n",
       "      <td>-0.076987</td>\n",
       "      <td>-1.268925</td>\n",
       "      <td>-0.052911</td>\n",
       "      <td>-0.971137</td>\n",
       "      <td>1.558277</td>\n",
       "      <td>...</td>\n",
       "      <td>0.821932</td>\n",
       "      <td>0</td>\n",
       "      <td>0</td>\n",
       "      <td>0</td>\n",
       "      <td>0</td>\n",
       "      <td>0</td>\n",
       "      <td>0</td>\n",
       "      <td>0</td>\n",
       "      <td>0</td>\n",
       "      <td>0</td>\n",
       "    </tr>\n",
       "    <tr>\n",
       "      <th>4</th>\n",
       "      <td>-0.059452</td>\n",
       "      <td>-3.579822</td>\n",
       "      <td>0.048555</td>\n",
       "      <td>-0.448273</td>\n",
       "      <td>-2.618167</td>\n",
       "      <td>-0.488163</td>\n",
       "      <td>-0.310095</td>\n",
       "      <td>-0.401702</td>\n",
       "      <td>-0.323326</td>\n",
       "      <td>0.696463</td>\n",
       "      <td>...</td>\n",
       "      <td>-0.933575</td>\n",
       "      <td>0</td>\n",
       "      <td>0</td>\n",
       "      <td>0</td>\n",
       "      <td>0</td>\n",
       "      <td>0</td>\n",
       "      <td>0</td>\n",
       "      <td>0</td>\n",
       "      <td>0</td>\n",
       "      <td>0</td>\n",
       "    </tr>\n",
       "    <tr>\n",
       "      <th>...</th>\n",
       "      <td>...</td>\n",
       "      <td>...</td>\n",
       "      <td>...</td>\n",
       "      <td>...</td>\n",
       "      <td>...</td>\n",
       "      <td>...</td>\n",
       "      <td>...</td>\n",
       "      <td>...</td>\n",
       "      <td>...</td>\n",
       "      <td>...</td>\n",
       "      <td>...</td>\n",
       "      <td>...</td>\n",
       "      <td>...</td>\n",
       "      <td>...</td>\n",
       "      <td>...</td>\n",
       "      <td>...</td>\n",
       "      <td>...</td>\n",
       "      <td>...</td>\n",
       "      <td>...</td>\n",
       "      <td>...</td>\n",
       "      <td>...</td>\n",
       "    </tr>\n",
       "    <tr>\n",
       "      <th>979</th>\n",
       "      <td>1.273789</td>\n",
       "      <td>-0.731878</td>\n",
       "      <td>0.255890</td>\n",
       "      <td>0.018355</td>\n",
       "      <td>-1.009519</td>\n",
       "      <td>-0.419561</td>\n",
       "      <td>-0.478711</td>\n",
       "      <td>-0.057190</td>\n",
       "      <td>-0.326566</td>\n",
       "      <td>0.618452</td>\n",
       "      <td>...</td>\n",
       "      <td>-0.107062</td>\n",
       "      <td>0</td>\n",
       "      <td>0</td>\n",
       "      <td>0</td>\n",
       "      <td>0</td>\n",
       "      <td>0</td>\n",
       "      <td>0</td>\n",
       "      <td>0</td>\n",
       "      <td>0</td>\n",
       "      <td>0</td>\n",
       "    </tr>\n",
       "    <tr>\n",
       "      <th>980</th>\n",
       "      <td>2.075849</td>\n",
       "      <td>-0.893296</td>\n",
       "      <td>-1.346985</td>\n",
       "      <td>-0.949922</td>\n",
       "      <td>-0.337627</td>\n",
       "      <td>-0.447143</td>\n",
       "      <td>-0.391778</td>\n",
       "      <td>-0.132986</td>\n",
       "      <td>-0.657363</td>\n",
       "      <td>0.875986</td>\n",
       "      <td>...</td>\n",
       "      <td>0.948237</td>\n",
       "      <td>0</td>\n",
       "      <td>0</td>\n",
       "      <td>0</td>\n",
       "      <td>0</td>\n",
       "      <td>0</td>\n",
       "      <td>0</td>\n",
       "      <td>0</td>\n",
       "      <td>0</td>\n",
       "      <td>0</td>\n",
       "    </tr>\n",
       "    <tr>\n",
       "      <th>981</th>\n",
       "      <td>-0.425656</td>\n",
       "      <td>0.918895</td>\n",
       "      <td>1.778858</td>\n",
       "      <td>0.175564</td>\n",
       "      <td>0.012725</td>\n",
       "      <td>-0.564843</td>\n",
       "      <td>0.734891</td>\n",
       "      <td>-0.105602</td>\n",
       "      <td>-0.307543</td>\n",
       "      <td>-0.695530</td>\n",
       "      <td>...</td>\n",
       "      <td>-0.471411</td>\n",
       "      <td>0</td>\n",
       "      <td>0</td>\n",
       "      <td>0</td>\n",
       "      <td>0</td>\n",
       "      <td>0</td>\n",
       "      <td>0</td>\n",
       "      <td>0</td>\n",
       "      <td>0</td>\n",
       "      <td>0</td>\n",
       "    </tr>\n",
       "    <tr>\n",
       "      <th>982</th>\n",
       "      <td>-4.198735</td>\n",
       "      <td>0.194121</td>\n",
       "      <td>-3.917586</td>\n",
       "      <td>3.920748</td>\n",
       "      <td>-1.875486</td>\n",
       "      <td>-2.118933</td>\n",
       "      <td>-3.614445</td>\n",
       "      <td>1.687884</td>\n",
       "      <td>-2.189871</td>\n",
       "      <td>-4.684233</td>\n",
       "      <td>...</td>\n",
       "      <td>-0.145267</td>\n",
       "      <td>1</td>\n",
       "      <td>1</td>\n",
       "      <td>1</td>\n",
       "      <td>1</td>\n",
       "      <td>1</td>\n",
       "      <td>1</td>\n",
       "      <td>1</td>\n",
       "      <td>1</td>\n",
       "      <td>1</td>\n",
       "    </tr>\n",
       "    <tr>\n",
       "      <th>983</th>\n",
       "      <td>-2.353518</td>\n",
       "      <td>-2.088903</td>\n",
       "      <td>1.303030</td>\n",
       "      <td>1.623290</td>\n",
       "      <td>2.849965</td>\n",
       "      <td>-2.018213</td>\n",
       "      <td>-0.965995</td>\n",
       "      <td>0.158842</td>\n",
       "      <td>-0.557575</td>\n",
       "      <td>-0.082656</td>\n",
       "      <td>...</td>\n",
       "      <td>-0.312292</td>\n",
       "      <td>0</td>\n",
       "      <td>0</td>\n",
       "      <td>0</td>\n",
       "      <td>0</td>\n",
       "      <td>0</td>\n",
       "      <td>0</td>\n",
       "      <td>0</td>\n",
       "      <td>0</td>\n",
       "      <td>0</td>\n",
       "    </tr>\n",
       "  </tbody>\n",
       "</table>\n",
       "<p>984 rows × 39 columns</p>\n",
       "</div>"
      ],
      "text/plain": [
       "           V1        V2        V3        V4        V5        V6        V7  \\\n",
       "0   -0.756516  1.068593  1.532464 -0.193738  0.018853 -0.268830  0.461129   \n",
       "1   -2.025992 -1.252391  1.539821  0.101042  2.159934 -1.966541 -0.734649   \n",
       "2    0.686957 -1.580332 -0.790755 -0.684467  1.030443  3.980299 -0.835597   \n",
       "3    2.309621 -1.490625 -1.145140 -1.714157 -0.967642 -0.076987 -1.268925   \n",
       "4   -0.059452 -3.579822  0.048555 -0.448273 -2.618167 -0.488163 -0.310095   \n",
       "..        ...       ...       ...       ...       ...       ...       ...   \n",
       "979  1.273789 -0.731878  0.255890  0.018355 -1.009519 -0.419561 -0.478711   \n",
       "980  2.075849 -0.893296 -1.346985 -0.949922 -0.337627 -0.447143 -0.391778   \n",
       "981 -0.425656  0.918895  1.778858  0.175564  0.012725 -0.564843  0.734891   \n",
       "982 -4.198735  0.194121 -3.917586  3.920748 -1.875486 -2.118933 -3.614445   \n",
       "983 -2.353518 -2.088903  1.303030  1.623290  2.849965 -2.018213 -0.965995   \n",
       "\n",
       "           V8        V9       V10  ...  scaled_time  0  0  0  0  0  0  0  0  0  \n",
       "0    0.244064 -0.409166  0.139339  ...    -0.078772  0  0  0  0  0  0  0  0  0  \n",
       "1    0.305664 -0.066600 -0.777599  ...    -0.086444  0  0  0  0  0  0  0  0  0  \n",
       "2    0.976344  1.040306 -0.531021  ...    -0.377530  0  0  0  0  0  0  0  0  0  \n",
       "3   -0.052911 -0.971137  1.558277  ...     0.821932  0  0  0  0  0  0  0  0  0  \n",
       "4   -0.401702 -0.323326  0.696463  ...    -0.933575  0  0  0  0  0  0  0  0  0  \n",
       "..        ...       ...       ...  ...          ... .. .. .. .. .. .. .. .. ..  \n",
       "979 -0.057190 -0.326566  0.618452  ...    -0.107062  0  0  0  0  0  0  0  0  0  \n",
       "980 -0.132986 -0.657363  0.875986  ...     0.948237  0  0  0  0  0  0  0  0  0  \n",
       "981 -0.105602 -0.307543 -0.695530  ...    -0.471411  0  0  0  0  0  0  0  0  0  \n",
       "982  1.687884 -2.189871 -4.684233  ...    -0.145267  1  1  1  1  1  1  1  1  1  \n",
       "983  0.158842 -0.557575 -0.082656  ...    -0.312292  0  0  0  0  0  0  0  0  0  \n",
       "\n",
       "[984 rows x 39 columns]"
      ]
     },
     "execution_count": 50,
     "metadata": {},
     "output_type": "execute_result"
    }
   ],
   "source": [
    "nn_df_test"
   ]
  },
  {
   "cell_type": "code",
   "execution_count": 48,
   "metadata": {},
   "outputs": [
    {
     "data": {
      "text/plain": [
       "0.9867313753940061"
      ]
     },
     "execution_count": 48,
     "metadata": {},
     "output_type": "execute_result"
    }
   ],
   "source": [
    "roc_auc_score(y_test, nn_probs)"
   ]
  },
  {
   "cell_type": "code",
   "execution_count": 49,
   "metadata": {},
   "outputs": [
    {
     "data": {
      "image/png": "[encoded data removed]",
      "text/plain": [
       "<Figure size 648x432 with 1 Axes>"
      ]
     },
     "metadata": {},
     "output_type": "display_data"
    }
   ],
   "source": [
    "fpr, tpr, thresholds = roc_curve(y_test, nn_probs, drop_intermediate=True)\n",
    "\n",
    "f, ax = plt.subplots(figsize=(9, 6))\n",
    "_ = plt.plot(fpr, tpr, [0,1], [0, 1])\n",
    "_ = plt.title('AUC ROC')\n",
    "_ = plt.xlabel('False positive rate')\n",
    "_ = plt.ylabel('True positive rate')\n",
    "plt.style.use('seaborn')"
   ]
  },
  {
   "cell_type": "code",
   "execution_count": null,
   "metadata": {},
   "outputs": [],
   "source": [
    "nn_model.predict()"
   ]
  }
 ],
 "metadata": {
  "kernelspec": {
   "display_name": "Python 3",
   "language": "python",
   "name": "python3"
  },
  "language_info": {
   "codemirror_mode": {
    "name": "ipython",
    "version": 3
   },
   "file_extension": ".py",
   "mimetype": "text/x-python",
   "name": "python",
   "nbconvert_exporter": "python",
   "pygments_lexer": "ipython3",
   "version": "3.6.10"
  }
 },
 "nbformat": 4,
 "nbformat_minor": 4
}
